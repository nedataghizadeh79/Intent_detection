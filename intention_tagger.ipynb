{
 "nbformat": 4,
 "nbformat_minor": 0,
 "metadata": {
  "colab": {
   "provenance": []
  },
  "kernelspec": {
   "name": "python3",
   "language": "python",
   "display_name": "Python 3 (ipykernel)"
  },
  "language_info": {
   "name": "python"
  }
 },
 "cells": [
  {
   "cell_type": "markdown",
   "source": [
    "Please God let this be the end of this NLP Course! A M E N"
   ],
   "metadata": {
    "id": "vG7zNt-NQJXh"
   }
  },
  {
   "cell_type": "markdown",
   "source": [
    "\n",
    "<div dir=\"rtl\">\n",
    "<h1>\n",
    "طبقه‌بندی کلمات با استفاده از مدل HMM\n",
    "</h1>\n",
    "\n",
    "در این نوتبوک، با استفاده از دیتاست\n",
    "<a href=\"https://huggingface.co/datasets/AmazonScience/massive/viewer/fa-IR\"> آمازون </a>\n",
    "به طبقه‌بندی کلمات می‌پردازیم. بدین شکل که تک تک کلمات مهم قصدشان شناسایی می‌شود یا none طلقی می شوند.\n",
    "</div>"
   ],
   "metadata": {
    "id": "FB4HPfWzQPVA"
   }
  },
  {
   "cell_type": "code",
   "source": [
    "# ! pip uninstall numpy\n",
    "! pip install datasets hazm numpy"
   ],
   "metadata": {
    "id": "S7fHxMJOQ8f0",
    "colab": {
     "base_uri": "https://localhost:8080/"
    },
    "outputId": "434023dd-1583-4849-fb3a-3879eeb85aee",
    "ExecuteTime": {
     "end_time": "2023-09-01T18:08:51.870333Z",
     "start_time": "2023-09-01T18:04:13.032760Z"
    }
   },
   "execution_count": 1,
   "outputs": [
    {
     "name": "stdout",
     "output_type": "stream",
     "text": [
      "Found existing installation: numpy 1.24.3\r\n",
      "Uninstalling numpy-1.24.3:\r\n",
      "  Would remove:\r\n",
      "    /opt/homebrew/Caskroom/miniforge/base/envs/datastuff/bin/f2py\r\n",
      "    /opt/homebrew/Caskroom/miniforge/base/envs/datastuff/bin/f2py3\r\n",
      "    /opt/homebrew/Caskroom/miniforge/base/envs/datastuff/bin/f2py3.9\r\n",
      "    /opt/homebrew/Caskroom/miniforge/base/envs/datastuff/lib/python3.9/site-packages/numpy-1.24.3.dist-info/*\r\n",
      "    /opt/homebrew/Caskroom/miniforge/base/envs/datastuff/lib/python3.9/site-packages/numpy/*\r\n",
      "Proceed (Y/n)? ^C\r\n",
      "\u001B[31mERROR: Operation cancelled by user\u001B[0m\u001B[31m\r\n",
      "\u001B[0mRequirement already satisfied: datasets in /opt/homebrew/Caskroom/miniforge/base/envs/datastuff/lib/python3.9/site-packages (2.14.4)\r\n",
      "Requirement already satisfied: hazm in /opt/homebrew/Caskroom/miniforge/base/envs/datastuff/lib/python3.9/site-packages (0.9.3)\r\n",
      "Requirement already satisfied: numpy in /opt/homebrew/Caskroom/miniforge/base/envs/datastuff/lib/python3.9/site-packages (1.24.3)\r\n",
      "Requirement already satisfied: pyarrow>=8.0.0 in /opt/homebrew/Caskroom/miniforge/base/envs/datastuff/lib/python3.9/site-packages (from datasets) (12.0.1)\r\n",
      "Requirement already satisfied: dill<0.3.8,>=0.3.0 in /opt/homebrew/Caskroom/miniforge/base/envs/datastuff/lib/python3.9/site-packages (from datasets) (0.3.7)\r\n",
      "Requirement already satisfied: pandas in /opt/homebrew/Caskroom/miniforge/base/envs/datastuff/lib/python3.9/site-packages (from datasets) (2.0.3)\r\n",
      "Requirement already satisfied: requests>=2.19.0 in /opt/homebrew/Caskroom/miniforge/base/envs/datastuff/lib/python3.9/site-packages (from datasets) (2.31.0)\r\n",
      "Requirement already satisfied: tqdm>=4.62.1 in /opt/homebrew/Caskroom/miniforge/base/envs/datastuff/lib/python3.9/site-packages (from datasets) (4.66.1)\r\n",
      "Requirement already satisfied: xxhash in /opt/homebrew/Caskroom/miniforge/base/envs/datastuff/lib/python3.9/site-packages (from datasets) (3.3.0)\r\n",
      "Requirement already satisfied: multiprocess in /opt/homebrew/Caskroom/miniforge/base/envs/datastuff/lib/python3.9/site-packages (from datasets) (0.70.15)\r\n",
      "Requirement already satisfied: fsspec[http]>=2021.11.1 in /opt/homebrew/Caskroom/miniforge/base/envs/datastuff/lib/python3.9/site-packages (from datasets) (2023.6.0)\r\n",
      "Requirement already satisfied: aiohttp in /opt/homebrew/Caskroom/miniforge/base/envs/datastuff/lib/python3.9/site-packages (from datasets) (3.8.5)\r\n",
      "Requirement already satisfied: huggingface-hub<1.0.0,>=0.14.0 in /opt/homebrew/Caskroom/miniforge/base/envs/datastuff/lib/python3.9/site-packages (from datasets) (0.16.4)\r\n",
      "Requirement already satisfied: packaging in /opt/homebrew/Caskroom/miniforge/base/envs/datastuff/lib/python3.9/site-packages (from datasets) (23.1)\r\n",
      "Requirement already satisfied: pyyaml>=5.1 in /opt/homebrew/Caskroom/miniforge/base/envs/datastuff/lib/python3.9/site-packages (from datasets) (6.0.1)\r\n",
      "Requirement already satisfied: fasttext-wheel<0.10.0,>=0.9.2 in /opt/homebrew/Caskroom/miniforge/base/envs/datastuff/lib/python3.9/site-packages (from hazm) (0.9.2)\r\n",
      "Requirement already satisfied: gensim<5.0.0,>=4.3.1 in /opt/homebrew/Caskroom/miniforge/base/envs/datastuff/lib/python3.9/site-packages (from hazm) (4.3.2)\r\n",
      "Requirement already satisfied: nltk<4.0.0,>=3.8.1 in /opt/homebrew/Caskroom/miniforge/base/envs/datastuff/lib/python3.9/site-packages (from hazm) (3.8.1)\r\n",
      "Requirement already satisfied: python-crfsuite<0.10.0,>=0.9.9 in /opt/homebrew/Caskroom/miniforge/base/envs/datastuff/lib/python3.9/site-packages (from hazm) (0.9.9)\r\n",
      "Requirement already satisfied: scikit-learn<2.0.0,>=1.2.2 in /opt/homebrew/Caskroom/miniforge/base/envs/datastuff/lib/python3.9/site-packages (from hazm) (1.3.0)\r\n",
      "Requirement already satisfied: pybind11>=2.2 in /opt/homebrew/Caskroom/miniforge/base/envs/datastuff/lib/python3.9/site-packages (from fasttext-wheel<0.10.0,>=0.9.2->hazm) (2.11.1)\r\n",
      "Requirement already satisfied: setuptools>=0.7.0 in /opt/homebrew/Caskroom/miniforge/base/envs/datastuff/lib/python3.9/site-packages (from fasttext-wheel<0.10.0,>=0.9.2->hazm) (68.0.0)\r\n",
      "Requirement already satisfied: attrs>=17.3.0 in /opt/homebrew/Caskroom/miniforge/base/envs/datastuff/lib/python3.9/site-packages (from aiohttp->datasets) (23.1.0)\r\n",
      "Requirement already satisfied: charset-normalizer<4.0,>=2.0 in /opt/homebrew/Caskroom/miniforge/base/envs/datastuff/lib/python3.9/site-packages (from aiohttp->datasets) (3.2.0)\r\n",
      "Requirement already satisfied: multidict<7.0,>=4.5 in /opt/homebrew/Caskroom/miniforge/base/envs/datastuff/lib/python3.9/site-packages (from aiohttp->datasets) (6.0.4)\r\n",
      "Requirement already satisfied: async-timeout<5.0,>=4.0.0a3 in /opt/homebrew/Caskroom/miniforge/base/envs/datastuff/lib/python3.9/site-packages (from aiohttp->datasets) (4.0.3)\r\n",
      "Requirement already satisfied: yarl<2.0,>=1.0 in /opt/homebrew/Caskroom/miniforge/base/envs/datastuff/lib/python3.9/site-packages (from aiohttp->datasets) (1.9.2)\r\n",
      "Requirement already satisfied: frozenlist>=1.1.1 in /opt/homebrew/Caskroom/miniforge/base/envs/datastuff/lib/python3.9/site-packages (from aiohttp->datasets) (1.4.0)\r\n",
      "Requirement already satisfied: aiosignal>=1.1.2 in /opt/homebrew/Caskroom/miniforge/base/envs/datastuff/lib/python3.9/site-packages (from aiohttp->datasets) (1.3.1)\r\n",
      "Requirement already satisfied: scipy>=1.7.0 in /opt/homebrew/Caskroom/miniforge/base/envs/datastuff/lib/python3.9/site-packages (from gensim<5.0.0,>=4.3.1->hazm) (1.11.2)\r\n",
      "Requirement already satisfied: smart-open>=1.8.1 in /opt/homebrew/Caskroom/miniforge/base/envs/datastuff/lib/python3.9/site-packages (from gensim<5.0.0,>=4.3.1->hazm) (6.3.0)\r\n",
      "Requirement already satisfied: filelock in /opt/homebrew/Caskroom/miniforge/base/envs/datastuff/lib/python3.9/site-packages (from huggingface-hub<1.0.0,>=0.14.0->datasets) (3.12.2)\r\n",
      "Requirement already satisfied: typing-extensions>=3.7.4.3 in /opt/homebrew/Caskroom/miniforge/base/envs/datastuff/lib/python3.9/site-packages (from huggingface-hub<1.0.0,>=0.14.0->datasets) (4.5.0)\r\n",
      "Requirement already satisfied: click in /opt/homebrew/Caskroom/miniforge/base/envs/datastuff/lib/python3.9/site-packages (from nltk<4.0.0,>=3.8.1->hazm) (8.1.7)\r\n",
      "Requirement already satisfied: joblib in /opt/homebrew/Caskroom/miniforge/base/envs/datastuff/lib/python3.9/site-packages (from nltk<4.0.0,>=3.8.1->hazm) (1.3.2)\r\n",
      "Requirement already satisfied: regex>=2021.8.3 in /opt/homebrew/Caskroom/miniforge/base/envs/datastuff/lib/python3.9/site-packages (from nltk<4.0.0,>=3.8.1->hazm) (2023.8.8)\r\n",
      "Requirement already satisfied: idna<4,>=2.5 in /opt/homebrew/Caskroom/miniforge/base/envs/datastuff/lib/python3.9/site-packages (from requests>=2.19.0->datasets) (3.4)\r\n",
      "Requirement already satisfied: urllib3<3,>=1.21.1 in /opt/homebrew/Caskroom/miniforge/base/envs/datastuff/lib/python3.9/site-packages (from requests>=2.19.0->datasets) (1.26.16)\r\n",
      "Requirement already satisfied: certifi>=2017.4.17 in /opt/homebrew/Caskroom/miniforge/base/envs/datastuff/lib/python3.9/site-packages (from requests>=2.19.0->datasets) (2023.7.22)\r\n",
      "Requirement already satisfied: threadpoolctl>=2.0.0 in /opt/homebrew/Caskroom/miniforge/base/envs/datastuff/lib/python3.9/site-packages (from scikit-learn<2.0.0,>=1.2.2->hazm) (3.2.0)\r\n",
      "Requirement already satisfied: python-dateutil>=2.8.2 in /opt/homebrew/Caskroom/miniforge/base/envs/datastuff/lib/python3.9/site-packages (from pandas->datasets) (2.8.2)\r\n",
      "Requirement already satisfied: pytz>=2020.1 in /opt/homebrew/Caskroom/miniforge/base/envs/datastuff/lib/python3.9/site-packages (from pandas->datasets) (2023.3)\r\n",
      "Requirement already satisfied: tzdata>=2022.1 in /opt/homebrew/Caskroom/miniforge/base/envs/datastuff/lib/python3.9/site-packages (from pandas->datasets) (2023.3)\r\n",
      "Requirement already satisfied: six>=1.5 in /opt/homebrew/Caskroom/miniforge/base/envs/datastuff/lib/python3.9/site-packages (from python-dateutil>=2.8.2->pandas->datasets) (1.16.0)\r\n",
      "Requirement already satisfied: numpy in /opt/homebrew/Caskroom/miniforge/base/envs/datastuff/lib/python3.9/site-packages (1.24.3)\r\n",
      "^C\r\n",
      "\u001B[31mERROR: Operation cancelled by user\u001B[0m\u001B[31m\r\n",
      "\u001B[0m"
     ]
    }
   ]
  },
  {
   "cell_type": "code",
   "execution_count": 2,
   "metadata": {
    "id": "_WF4ppYaPIYf",
    "ExecuteTime": {
     "end_time": "2023-09-01T18:08:53.609881Z",
     "start_time": "2023-09-01T18:08:51.873553Z"
    }
   },
   "outputs": [],
   "source": [
    "import numpy as np\n",
    "import pandas as pd\n",
    "import time\n",
    "from pprint import pprint\n",
    "from datasets import load_dataset\n",
    "from hazm import WordTokenizer\n",
    "from tqdm import tqdm"
   ]
  },
  {
   "cell_type": "code",
   "source": [
    "dataset = load_dataset(\"AmazonScience/massive\", 'fa-IR')"
   ],
   "metadata": {
    "id": "rpegHJYtRJvC",
    "ExecuteTime": {
     "end_time": "2023-09-01T18:08:57.985539Z",
     "start_time": "2023-09-01T18:08:53.608272Z"
    }
   },
   "execution_count": 3,
   "outputs": []
  },
  {
   "cell_type": "code",
   "source": [
    "pprint(dataset['train'][0])"
   ],
   "metadata": {
    "colab": {
     "base_uri": "https://localhost:8080/"
    },
    "id": "JzL86XPtRZSn",
    "outputId": "d78f9641-7ddf-47ca-b832-67653afb1d64",
    "ExecuteTime": {
     "end_time": "2023-09-01T18:08:58.013166Z",
     "start_time": "2023-09-01T18:08:57.988972Z"
    }
   },
   "execution_count": 4,
   "outputs": [
    {
     "name": "stdout",
     "output_type": "stream",
     "text": [
      "{'annot_utt': 'مرا [date : جمعه] ساعت [time : نه صبح] بیدار کن',\n",
      " 'id': '1',\n",
      " 'intent': 48,\n",
      " 'judgments': {'grammar_score': [4, 4, 4],\n",
      "               'intent_score': [1, 1, 1],\n",
      "               'language_identification': ['target', 'target', 'target'],\n",
      "               'slots_score': [1, 1, 1],\n",
      "               'spelling_score': [2, 2, 2],\n",
      "               'worker_id': ['3', '8', '14']},\n",
      " 'locale': 'fa-IR',\n",
      " 'partition': 'train',\n",
      " 'scenario': 16,\n",
      " 'slot_method': {'method': ['translation', 'translation'],\n",
      "                 'slot': ['time', 'date']},\n",
      " 'utt': 'مرا جمعه ساعت نه صبح بیدار کن',\n",
      " 'worker_id': '3'}\n"
     ]
    }
   ]
  },
  {
   "cell_type": "markdown",
   "source": [
    "<br>\n",
    "<h2 dir=\"rtl\">\n",
    "برای این که از داده‌های دیتاست استفاده کنیم، نیاز است تا هر داده را به صورت\n",
    "(word, label)\n",
    "درآوریم\n",
    "</h2>"
   ],
   "metadata": {
    "id": "glBtWO4-VxKx"
   }
  },
  {
   "cell_type": "code",
   "source": [
    "import re\n",
    "\n",
    "def extract_bracket_parts(text):\n",
    "    pattern = r'\\[([^:]+)\\s*:\\s*([^]]+)\\]'\n",
    "    matches = re.findall(pattern, text)\n",
    "\n",
    "    extracted_parts = []\n",
    "    for match in matches:\n",
    "        before_colon = match[0].strip()\n",
    "        after_colon = match[1].strip()\n",
    "        extracted_parts.append((before_colon, after_colon))\n",
    "\n",
    "    return extracted_parts"
   ],
   "metadata": {
    "id": "pUk7QvD7XvPg",
    "ExecuteTime": {
     "end_time": "2023-09-01T18:08:58.013527Z",
     "start_time": "2023-09-01T18:08:57.993612Z"
    }
   },
   "execution_count": 5,
   "outputs": []
  },
  {
   "cell_type": "markdown",
   "source": [
    "این تابع، نسخه‌ی برچسب خورده و بدون برچسب یک جمله را می‌گیرد (مطابق حالتی که در دیتاست داریم) و سپس با فرمتی که در داک تمرین خواسته شده، به صورت لیستی از تاپل‌های (کلمه، برچسب) باز می‌گرداند"
   ],
   "metadata": {
    "id": "IWF3bmW05iow"
   }
  },
  {
   "cell_type": "code",
   "source": [
    "tokenizer = WordTokenizer()\n",
    "\n",
    "def get_word_tag_tuples(utt: str, annot_utt: str):\n",
    "  tokens = tokenizer.tokenize(utt)\n",
    "  dic = {token: (None, index) for index, token in enumerate(tokens)}\n",
    "  tagged_parts = extract_bracket_parts(annot_utt)\n",
    "  for part in tagged_parts:\n",
    "    tag = part[0]\n",
    "    words = tokenizer.tokenize(part[1])\n",
    "    for w in words:\n",
    "      try:\n",
    "        dic[w] = (tag, dic[w][1])\n",
    "      except KeyError:\n",
    "        # Sometimes hazm tokenizer doesn't do a very good job!\n",
    "        return []\n",
    "  sorted_parts = sorted(dic.items(), key=lambda x: x[1][1])\n",
    "  return [(key, value[0]) for key, value in sorted_parts]\n",
    "\n"
   ],
   "metadata": {
    "id": "Tkj6I2tAVueW",
    "ExecuteTime": {
     "end_time": "2023-09-01T18:08:58.118791Z",
     "start_time": "2023-09-01T18:08:57.998346Z"
    }
   },
   "execution_count": 6,
   "outputs": []
  },
  {
   "cell_type": "code",
   "source": [
    "d = dataset['train'][0]\n",
    "get_word_tag_tuples(d['utt'], d['annot_utt'])"
   ],
   "metadata": {
    "colab": {
     "base_uri": "https://localhost:8080/"
    },
    "id": "ZG3LlpboWuJG",
    "outputId": "d1007e0f-9eaf-48e9-95ee-0fd793d8e8d4",
    "ExecuteTime": {
     "end_time": "2023-09-01T18:08:58.164695Z",
     "start_time": "2023-09-01T18:08:58.120862Z"
    }
   },
   "execution_count": 7,
   "outputs": [
    {
     "data": {
      "text/plain": "[('مرا', None),\n ('جمعه', 'date'),\n ('ساعت', None),\n ('نه', 'time'),\n ('صبح', 'time'),\n ('بیدار', None),\n ('کن', None)]"
     },
     "execution_count": 7,
     "metadata": {},
     "output_type": "execute_result"
    }
   ]
  },
  {
   "cell_type": "code",
   "source": [
    "train_tagged_words = [get_word_tag_tuples(d['utt'], d['annot_utt']) for d in dataset['train']]\n",
    "train_tagged_words = [l for l in train_tagged_words if l]"
   ],
   "metadata": {
    "id": "P-HQjkgLaFUq",
    "ExecuteTime": {
     "end_time": "2023-09-01T18:08:58.824648Z",
     "start_time": "2023-09-01T18:08:58.125162Z"
    }
   },
   "execution_count": 8,
   "outputs": []
  },
  {
   "cell_type": "code",
   "source": [
    "print(train_tagged_words[0])\n",
    "print(len(dataset['train']))\n",
    "print(len(train_tagged_words))"
   ],
   "metadata": {
    "colab": {
     "base_uri": "https://localhost:8080/"
    },
    "id": "3sV7EyMYcmj5",
    "outputId": "5766e14d-94f3-420d-8d1a-9784ae8d54ef",
    "ExecuteTime": {
     "end_time": "2023-09-01T18:08:58.845859Z",
     "start_time": "2023-09-01T18:08:58.825056Z"
    }
   },
   "execution_count": 9,
   "outputs": [
    {
     "name": "stdout",
     "output_type": "stream",
     "text": [
      "[('مرا', None), ('جمعه', 'date'), ('ساعت', None), ('نه', 'time'), ('صبح', 'time'), ('بیدار', None), ('کن', None)]\n",
      "11514\n",
      "11506\n"
     ]
    }
   ]
  },
  {
   "cell_type": "code",
   "source": [
    "train_tagged_words_unstructured = [x for sublist in train_tagged_words for x in sublist]"
   ],
   "metadata": {
    "id": "V58TP7T8tDuC",
    "ExecuteTime": {
     "end_time": "2023-09-01T18:08:58.846011Z",
     "start_time": "2023-09-01T18:08:58.830468Z"
    }
   },
   "execution_count": 10,
   "outputs": []
  },
  {
   "cell_type": "code",
   "source": [
    "all_tags = {tag for all_tags in train_tagged_words for _, tag in all_tags}\n",
    "print(all_tags)\n",
    "vocab = {word for all_words in train_tagged_words for word, _ in all_words }\n",
    "len(vocab)"
   ],
   "metadata": {
    "colab": {
     "base_uri": "https://localhost:8080/"
    },
    "id": "U4WflWwleFqW",
    "outputId": "d752924a-b21a-440a-8d73-24214283c0d1",
    "ExecuteTime": {
     "end_time": "2023-09-01T18:08:58.846215Z",
     "start_time": "2023-09-01T18:08:58.842495Z"
    }
   },
   "execution_count": 11,
   "outputs": [
    {
     "name": "stdout",
     "output_type": "stream",
     "text": [
      "{'media_type', 'house_place', 'song_name', 'joke_type', 'email_folder', 'podcast_name', 'meal_type', 'business_name', 'app_name', 'definition_word', 'artist_name', 'time_zone', 'currency_name', 'relation', 'transport_name', 'podcast_descriptor', 'personal_info', 'ingredient', 'email_address', 'transport_descriptor', 'game_type', 'movie_name', 'radio_name', 'sport_type', 'movie_type', 'place_name', 'coffee_type', 'date', 'transport_type', 'color_type', 'player_setting', 'timeofday', 'alarm_type', 'cooking_type', 'general_frequency', 'audiobook_name', 'order_type', 'music_album', 'music_genre', 'playlist_name', 'music_descriptor', 'news_topic', 'list_name', 'game_name', 'time', 'change_amount', 'weather_descriptor', None, 'food_type', 'event_name', 'business_type', 'device_type', 'transport_agency', 'drink_type', 'person', 'audiobook_author'}\n"
     ]
    },
    {
     "data": {
      "text/plain": "5689"
     },
     "execution_count": 11,
     "metadata": {},
     "output_type": "execute_result"
    }
   ]
  },
  {
   "cell_type": "markdown",
   "source": [
    "<h2 dir=\"rtl\">\n",
    "پایان آماده‌سازی دیتاست\n",
    "</h2>\n",
    "<br>\n",
    "<hr>\n",
    "<br>\n",
    "<h2 dir=\"rtl\">\n",
    "الگوریتم Viterbi\n",
    "</h2>\n"
   ],
   "metadata": {
    "id": "QOIpdebrZQ-J"
   }
  },
  {
   "cell_type": "markdown",
   "source": [
    "محاسبه‌ی احتمال emission"
   ],
   "metadata": {
    "id": "DpH9g_inZ2Kb"
   }
  },
  {
   "cell_type": "code",
   "source": [
    "def word_given_tag(word, tag, train_bag):\n",
    "    tag_list = [pair for pair in train_bag if pair[1]==tag]\n",
    "    count_tag = len(tag_list)#total number of times the passed tag occurred in train_bag\n",
    "    w_given_tag_list = [pair[0] for pair in tag_list if pair[0]==word]\n",
    "#now calculate the total number of times the passed word occurred as the passed tag.\n",
    "    count_w_given_tag = len(w_given_tag_list)\n",
    "\n",
    "\n",
    "    return count_w_given_tag, count_tag"
   ],
   "metadata": {
    "id": "U-uad9cqZ1V_",
    "ExecuteTime": {
     "end_time": "2023-09-01T18:08:58.881071Z",
     "start_time": "2023-09-01T18:08:58.846499Z"
    }
   },
   "execution_count": 12,
   "outputs": []
  },
  {
   "cell_type": "markdown",
   "source": [
    "محاسبه‌ی احتمال transition\n"
   ],
   "metadata": {
    "id": "VpKsrV-l3J0j"
   }
  },
  {
   "cell_type": "code",
   "source": [
    "def t2_given_t1(t2, t1, train_bag):\n",
    "    tags = [pair[1] for pair in train_bag]\n",
    "    count_t1 = len([t for t in tags if t==t1])\n",
    "    count_t2_t1 = 0\n",
    "    for index in range(len(tags)-1):\n",
    "        if tags[index]==t1 and tags[index+1] == t2:\n",
    "            count_t2_t1 += 1\n",
    "    return count_t2_t1, count_t1"
   ],
   "metadata": {
    "id": "Pq8lb0wfaDwo",
    "ExecuteTime": {
     "end_time": "2023-09-01T18:08:58.914007Z",
     "start_time": "2023-09-01T18:08:58.851051Z"
    }
   },
   "execution_count": 13,
   "outputs": []
  },
  {
   "cell_type": "markdown",
   "source": [
    "محاسبه‌ی ماتریس transition"
   ],
   "metadata": {
    "id": "BDQwo1-d3SDK"
   }
  },
  {
   "cell_type": "code",
   "source": [
    "tags_matrix = np.zeros((len(all_tags), len(all_tags)), dtype='float32')\n",
    "for i, t1 in enumerate(list(all_tags)):\n",
    "    for j, t2 in enumerate(list(all_tags)):\n",
    "        res = t2_given_t1(t2, t1, train_tagged_words_unstructured)\n",
    "        tags_matrix[i, j] = res[0]/res[1]\n",
    "\n",
    "print(tags_matrix)"
   ],
   "metadata": {
    "id": "2aDahoADeBqa",
    "colab": {
     "base_uri": "https://localhost:8080/"
    },
    "outputId": "d296c074-ca1e-4964-bfa8-268dd667de5a",
    "ExecuteTime": {
     "end_time": "2023-09-01T18:09:20.888831Z",
     "start_time": "2023-09-01T18:08:58.868584Z"
    }
   },
   "execution_count": 14,
   "outputs": [
    {
     "name": "stdout",
     "output_type": "stream",
     "text": [
      "[[0.42176038 0.         0.00122249 ... 0.         0.00244499 0.00122249]\n",
      " [0.         0.22352941 0.         ... 0.         0.         0.        ]\n",
      " [0.         0.         0.19135803 ... 0.         0.         0.        ]\n",
      " ...\n",
      " [0.         0.         0.         ... 0.25       0.         0.        ]\n",
      " [0.         0.         0.         ... 0.         0.26546392 0.        ]\n",
      " [0.         0.         0.         ... 0.         0.         0.25      ]]\n"
     ]
    }
   ]
  },
  {
   "cell_type": "markdown",
   "source": [
    "ماتریس احتمالات تگ‌ها"
   ],
   "metadata": {
    "id": "aXthel4m3D6L"
   }
  },
  {
   "cell_type": "code",
   "source": [
    "tags_df = pd.DataFrame(tags_matrix, columns = list(all_tags), index=list(all_tags))\n",
    "display(tags_df)"
   ],
   "metadata": {
    "colab": {
     "base_uri": "https://localhost:8080/",
     "height": 1000
    },
    "id": "0pGt25aIub4n",
    "outputId": "fa4e041d-fa1d-4a2e-c88d-5eb0a412006b",
    "ExecuteTime": {
     "end_time": "2023-09-01T18:09:20.973223Z",
     "start_time": "2023-09-01T18:09:20.900887Z"
    }
   },
   "execution_count": 15,
   "outputs": [
    {
     "data": {
      "text/plain": "                      media_type  house_place  song_name  joke_type  \\\nmedia_type              0.421760     0.000000   0.001222   0.000000   \nhouse_place             0.000000     0.223529   0.000000   0.000000   \nsong_name               0.000000     0.000000   0.191358   0.000000   \njoke_type               0.000000     0.000000   0.000000   0.270833   \nemail_folder            0.000000     0.000000   0.000000   0.000000   \npodcast_name            0.000000     0.000000   0.000000   0.000000   \nmeal_type               0.000000     0.000000   0.000000   0.000000   \nbusiness_name           0.069111     0.000000   0.000000   0.000000   \napp_name                0.000000     0.000000   0.000000   0.000000   \ndefinition_word         0.000000     0.000000   0.000000   0.000000   \nartist_name             0.000000     0.000000   0.006173   0.000000   \ntime_zone               0.000000     0.000000   0.000000   0.000000   \ncurrency_name           0.000000     0.000000   0.000000   0.000000   \nrelation                0.010791     0.000000   0.000000   0.000000   \ntransport_name          0.000000     0.000000   0.000000   0.000000   \npodcast_descriptor      0.000000     0.000000   0.000000   0.000000   \npersonal_info           0.000000     0.000000   0.000000   0.000000   \ningredient              0.000000     0.000000   0.000000   0.000000   \nemail_address           0.000000     0.000000   0.000000   0.000000   \ntransport_descriptor    0.000000     0.000000   0.000000   0.000000   \ngame_type               0.000000     0.000000   0.000000   0.000000   \nmovie_name              0.000000     0.000000   0.000000   0.000000   \nradio_name              0.000000     0.000000   0.000000   0.000000   \nsport_type              0.000000     0.000000   0.000000   0.000000   \nmovie_type              0.000000     0.000000   0.000000   0.000000   \nplace_name              0.001413     0.000000   0.000707   0.000000   \ncoffee_type             0.000000     0.000000   0.000000   0.000000   \ndate                    0.002609     0.000000   0.000000   0.000000   \ntransport_type          0.000000     0.000000   0.000000   0.000000   \ncolor_type              0.000000     0.000000   0.000000   0.000000   \nplayer_setting          0.037879     0.000000   0.002525   0.000000   \ntimeofday               0.000000     0.000000   0.000000   0.000000   \nalarm_type              0.000000     0.000000   0.000000   0.000000   \ncooking_type            0.000000     0.000000   0.000000   0.000000   \ngeneral_frequency       0.000000     0.000000   0.000000   0.000000   \naudiobook_name          0.000000     0.000000   0.000000   0.000000   \norder_type              0.000000     0.000000   0.000000   0.000000   \nmusic_album             0.000000     0.000000   0.000000   0.000000   \nmusic_genre             0.000000     0.000000   0.000000   0.000000   \nplaylist_name           0.000000     0.000000   0.000000   0.000000   \nmusic_descriptor        0.000000     0.000000   0.000000   0.000000   \nnews_topic              0.002907     0.000000   0.000000   0.000000   \nlist_name               0.000000     0.000000   0.003145   0.000000   \ngame_name               0.000000     0.000000   0.000000   0.000000   \ntime                    0.000000     0.000000   0.000000   0.000000   \nchange_amount           0.000000     0.009009   0.000000   0.000000   \nweather_descriptor      0.000000     0.000000   0.002070   0.000000   \nNone                    0.006021     0.002889   0.001885   0.000532   \nfood_type               0.000000     0.000000   0.000000   0.000000   \nevent_name              0.000000     0.000000   0.000000   0.000000   \nbusiness_type           0.000000     0.000000   0.000000   0.000000   \ndevice_type             0.000000     0.016393   0.000000   0.000000   \ntransport_agency        0.000000     0.000000   0.000000   0.000000   \ndrink_type              0.000000     0.000000   0.000000   0.000000   \nperson                  0.000000     0.000000   0.000000   0.000000   \naudiobook_author        0.000000     0.000000   0.000000   0.000000   \n\n                      email_folder  podcast_name  meal_type  business_name  \\\nmedia_type                0.000000      0.000000   0.000000       0.009780   \nhouse_place               0.000000      0.000000   0.000000       0.000000   \nsong_name                 0.000000      0.000000   0.000000       0.000000   \njoke_type                 0.000000      0.000000   0.000000       0.000000   \nemail_folder              0.418182      0.000000   0.000000       0.000000   \npodcast_name              0.000000      0.333333   0.000000       0.000000   \nmeal_type                 0.000000      0.000000   0.030769       0.000000   \nbusiness_name             0.000000      0.000000   0.000000       0.454161   \napp_name                  0.000000      0.000000   0.000000       0.000000   \ndefinition_word           0.000000      0.000000   0.000000       0.000000   \nartist_name               0.000000      0.000000   0.000000       0.000000   \ntime_zone                 0.000000      0.000000   0.000000       0.000000   \ncurrency_name             0.000000      0.000000   0.000000       0.000000   \nrelation                  0.000000      0.000000   0.000000       0.000000   \ntransport_name            0.000000      0.000000   0.000000       0.000000   \npodcast_descriptor        0.000000      0.045455   0.000000       0.000000   \npersonal_info             0.007299      0.000000   0.000000       0.014599   \ningredient                0.000000      0.000000   0.000000       0.000000   \nemail_address             0.000000      0.000000   0.000000       0.000000   \ntransport_descriptor      0.000000      0.000000   0.000000       0.000000   \ngame_type                 0.000000      0.000000   0.000000       0.000000   \nmovie_name                0.000000      0.000000   0.000000       0.000000   \nradio_name                0.000000      0.000000   0.000000       0.000000   \nsport_type                0.000000      0.000000   0.000000       0.000000   \nmovie_type                0.000000      0.000000   0.000000       0.000000   \nplace_name                0.000000      0.000000   0.000000       0.000000   \ncoffee_type               0.000000      0.000000   0.000000       0.000000   \ndate                      0.000000      0.000000   0.001118       0.001118   \ntransport_type            0.000000      0.000000   0.000000       0.000000   \ncolor_type                0.000000      0.000000   0.000000       0.000000   \nplayer_setting            0.000000      0.000000   0.000000       0.000000   \ntimeofday                 0.000000      0.000000   0.003937       0.000000   \nalarm_type                0.000000      0.000000   0.000000       0.000000   \ncooking_type              0.000000      0.000000   0.000000       0.000000   \ngeneral_frequency         0.000000      0.000000   0.000000       0.000000   \naudiobook_name            0.000000      0.000000   0.000000       0.000000   \norder_type                0.000000      0.000000   0.000000       0.000000   \nmusic_album               0.000000      0.000000   0.000000       0.000000   \nmusic_genre               0.000000      0.000000   0.000000       0.000000   \nplaylist_name             0.000000      0.000000   0.000000       0.000000   \nmusic_descriptor          0.000000      0.000000   0.000000       0.000000   \nnews_topic                0.000000      0.000000   0.000000       0.000000   \nlist_name                 0.000000      0.000000   0.000000       0.000000   \ngame_name                 0.000000      0.000000   0.000000       0.000000   \ntime                      0.000000      0.000000   0.001125       0.000000   \nchange_amount             0.000000      0.000000   0.000000       0.000000   \nweather_descriptor        0.000000      0.000000   0.000000       0.000000   \nNone                      0.000471      0.000745   0.000867       0.005549   \nfood_type                 0.000000      0.000000   0.000000       0.002212   \nevent_name                0.000000      0.000000   0.000000       0.000000   \nbusiness_type             0.000000      0.000000   0.000000       0.031873   \ndevice_type               0.000000      0.000000   0.000000       0.000000   \ntransport_agency          0.000000      0.000000   0.000000       0.000000   \ndrink_type                0.000000      0.000000   0.000000       0.000000   \nperson                    0.000000      0.000000   0.000000       0.000000   \naudiobook_author          0.000000      0.000000   0.000000       0.000000   \n\n                      app_name  definition_word  ...  weather_descriptor  \\\nmedia_type            0.000000         0.000000  ...            0.000000   \nhouse_place           0.000000         0.000000  ...            0.000000   \nsong_name             0.000000         0.000000  ...            0.000000   \njoke_type             0.000000         0.000000  ...            0.000000   \nemail_folder          0.000000         0.000000  ...            0.000000   \npodcast_name          0.000000         0.000000  ...            0.000000   \nmeal_type             0.000000         0.000000  ...            0.000000   \nbusiness_name         0.000000         0.000000  ...            0.000000   \napp_name              0.163934         0.000000  ...            0.000000   \ndefinition_word       0.000000         0.305810  ...            0.000000   \nartist_name           0.000000         0.000000  ...            0.000000   \ntime_zone             0.000000         0.000000  ...            0.000000   \ncurrency_name         0.000000         0.006601  ...            0.000000   \nrelation              0.000000         0.000000  ...            0.000000   \ntransport_name        0.000000         0.000000  ...            0.000000   \npodcast_descriptor    0.000000         0.000000  ...            0.000000   \npersonal_info         0.000000         0.000000  ...            0.000000   \ningredient            0.000000         0.000000  ...            0.000000   \nemail_address         0.000000         0.000000  ...            0.000000   \ntransport_descriptor  0.000000         0.000000  ...            0.000000   \ngame_type             0.000000         0.000000  ...            0.000000   \nmovie_name            0.000000         0.000000  ...            0.000000   \nradio_name            0.000000         0.000000  ...            0.000000   \nsport_type            0.000000         0.000000  ...            0.000000   \nmovie_type            0.000000         0.000000  ...            0.000000   \nplace_name            0.000000         0.000000  ...            0.009894   \ncoffee_type           0.000000         0.000000  ...            0.000000   \ndate                  0.000000         0.000000  ...            0.019754   \ntransport_type        0.000000         0.000000  ...            0.000000   \ncolor_type            0.000000         0.000000  ...            0.000000   \nplayer_setting        0.005051         0.000000  ...            0.000000   \ntimeofday             0.000000         0.000000  ...            0.059055   \nalarm_type            0.000000         0.000000  ...            0.000000   \ncooking_type          0.000000         0.000000  ...            0.000000   \ngeneral_frequency     0.000000         0.000000  ...            0.000000   \naudiobook_name        0.000000         0.000000  ...            0.000000   \norder_type            0.000000         0.000000  ...            0.000000   \nmusic_album           0.000000         0.000000  ...            0.000000   \nmusic_genre           0.000000         0.000000  ...            0.000000   \nplaylist_name         0.000000         0.000000  ...            0.000000   \nmusic_descriptor      0.010204         0.000000  ...            0.000000   \nnews_topic            0.000000         0.000000  ...            0.000000   \nlist_name             0.000000         0.000000  ...            0.000000   \ngame_name             0.000000         0.000000  ...            0.000000   \ntime                  0.000000         0.000000  ...            0.003939   \nchange_amount         0.000000         0.000000  ...            0.000000   \nweather_descriptor    0.000000         0.000000  ...            0.347826   \nNone                  0.000715         0.003421  ...            0.003421   \nfood_type             0.000000         0.000000  ...            0.000000   \nevent_name            0.000000         0.000000  ...            0.000631   \nbusiness_type         0.000000         0.000000  ...            0.000000   \ndevice_type           0.002342         0.000000  ...            0.000000   \ntransport_agency      0.000000         0.000000  ...            0.000000   \ndrink_type            0.000000         0.000000  ...            0.000000   \nperson                0.000000         0.000000  ...            0.000000   \naudiobook_author      0.000000         0.000000  ...            0.000000   \n\n                          None  food_type  event_name  business_type  \\\nmedia_type            0.535452   0.000000    0.000000       0.000000   \nhouse_place           0.764706   0.000000    0.000000       0.000000   \nsong_name             0.734568   0.000000    0.000000       0.000000   \njoke_type             0.729167   0.000000    0.000000       0.000000   \nemail_folder          0.581818   0.000000    0.000000       0.000000   \npodcast_name          0.642857   0.000000    0.000000       0.000000   \nmeal_type             0.753846   0.030769    0.015385       0.000000   \nbusiness_name         0.454161   0.004231    0.000000       0.000000   \napp_name              0.770492   0.000000    0.000000       0.000000   \ndefinition_word       0.694190   0.000000    0.000000       0.000000   \nartist_name           0.697531   0.000000    0.000000       0.000000   \ntime_zone             0.625000   0.000000    0.000000       0.000000   \ncurrency_name         0.676568   0.000000    0.000000       0.000000   \nrelation              0.841727   0.000000    0.000000       0.000000   \ntransport_name        0.285714   0.000000    0.000000       0.000000   \npodcast_descriptor    0.370130   0.000000    0.000000       0.000000   \npersonal_info         0.175182   0.000000    0.007299       0.000000   \ningredient            0.600000   0.033333    0.000000       0.000000   \nemail_address         0.181818   0.000000    0.000000       0.000000   \ntransport_descriptor  0.347826   0.000000    0.000000       0.000000   \ngame_type             1.000000   0.000000    0.000000       0.000000   \nmovie_name            0.419355   0.000000    0.000000       0.000000   \nradio_name            0.485185   0.000000    0.000000       0.000000   \nsport_type            0.375000   0.000000    0.000000       0.000000   \nmovie_type            0.473684   0.000000    0.000000       0.000000   \nplace_name            0.726502   0.000000    0.002120       0.002827   \ncoffee_type           0.536585   0.000000    0.000000       0.000000   \ndate                  0.564666   0.000373    0.021245       0.000000   \ntransport_type        0.884615   0.000000    0.000000       0.000000   \ncolor_type            0.883929   0.000000    0.000000       0.000000   \nplayer_setting        0.295455   0.000000    0.000000       0.000000   \ntimeofday             0.673228   0.000000    0.019685       0.003937   \nalarm_type            0.642857   0.000000    0.000000       0.000000   \ncooking_type          0.523810   0.190476    0.000000       0.000000   \ngeneral_frequency     0.436364   0.000000    0.030303       0.000000   \naudiobook_name        0.603448   0.000000    0.000000       0.000000   \norder_type            0.592179   0.000000    0.000000       0.000000   \nmusic_album           0.333333   0.000000    0.000000       0.000000   \nmusic_genre           0.782222   0.000000    0.000000       0.000000   \nplaylist_name         0.363128   0.000000    0.000000       0.000000   \nmusic_descriptor      0.397959   0.000000    0.000000       0.000000   \nnews_topic            0.465116   0.000000    0.000000       0.000000   \nlist_name             0.569182   0.000000    0.000000       0.000000   \ngame_name             0.617647   0.000000    0.000000       0.000000   \ntime                  0.372538   0.000000    0.019133       0.000000   \nchange_amount         0.423423   0.000000    0.000000       0.000000   \nweather_descriptor    0.606625   0.000000    0.000000       0.000000   \nNone                  0.848051   0.003938    0.013288       0.002737   \nfood_type             0.603982   0.351770    0.000000       0.006637   \nevent_name            0.468139   0.000000    0.371609       0.000000   \nbusiness_type         0.581673   0.087649    0.003984       0.250996   \ndevice_type           0.512881   0.000000    0.000000       0.000000   \ntransport_agency      0.968750   0.000000    0.000000       0.000000   \ndrink_type            0.666667   0.083333    0.000000       0.000000   \nperson                0.707045   0.000000    0.012887       0.000000   \naudiobook_author      0.625000   0.000000    0.000000       0.000000   \n\n                      device_type  transport_agency  drink_type    person  \\\nmedia_type               0.000000          0.000000    0.000000  0.002445   \nhouse_place              0.003922          0.000000    0.000000  0.000000   \nsong_name                0.000000          0.000000    0.000000  0.000000   \njoke_type                0.000000          0.000000    0.000000  0.000000   \nemail_folder             0.000000          0.000000    0.000000  0.000000   \npodcast_name             0.000000          0.000000    0.000000  0.000000   \nmeal_type                0.000000          0.000000    0.000000  0.000000   \nbusiness_name            0.000000          0.000000    0.000000  0.000000   \napp_name                 0.000000          0.000000    0.000000  0.000000   \ndefinition_word          0.000000          0.000000    0.000000  0.000000   \nartist_name              0.000000          0.000000    0.000000  0.003086   \ntime_zone                0.000000          0.000000    0.000000  0.000000   \ncurrency_name            0.000000          0.000000    0.000000  0.000000   \nrelation                 0.000000          0.000000    0.000000  0.021583   \ntransport_name           0.000000          0.000000    0.000000  0.000000   \npodcast_descriptor       0.000000          0.000000    0.000000  0.000000   \npersonal_info            0.000000          0.000000    0.000000  0.291971   \ningredient               0.000000          0.000000    0.000000  0.000000   \nemail_address            0.000000          0.000000    0.000000  0.000000   \ntransport_descriptor     0.000000          0.000000    0.000000  0.000000   \ngame_type                0.000000          0.000000    0.000000  0.000000   \nmovie_name               0.000000          0.000000    0.000000  0.000000   \nradio_name               0.000000          0.000000    0.000000  0.000000   \nsport_type               0.000000          0.000000    0.000000  0.000000   \nmovie_type               0.000000          0.000000    0.000000  0.000000   \nplace_name               0.000000          0.000707    0.000000  0.001413   \ncoffee_type              0.000000          0.000000    0.000000  0.000000   \ndate                     0.000745          0.000000    0.000373  0.001864   \ntransport_type           0.000000          0.003205    0.000000  0.000000   \ncolor_type               0.000000          0.000000    0.000000  0.000000   \nplayer_setting           0.002525          0.000000    0.000000  0.000000   \ntimeofday                0.000000          0.000000    0.000000  0.007874   \nalarm_type               0.000000          0.000000    0.000000  0.000000   \ncooking_type             0.000000          0.000000    0.000000  0.000000   \ngeneral_frequency        0.000000          0.000000    0.000000  0.000000   \naudiobook_name           0.000000          0.000000    0.000000  0.000000   \norder_type               0.000000          0.000000    0.000000  0.000000   \nmusic_album              0.000000          0.000000    0.000000  0.000000   \nmusic_genre              0.000000          0.000000    0.000000  0.000000   \nplaylist_name            0.000000          0.000000    0.000000  0.000000   \nmusic_descriptor         0.000000          0.000000    0.000000  0.000000   \nnews_topic               0.000000          0.000000    0.000000  0.005814   \nlist_name                0.000000          0.000000    0.000000  0.000000   \ngame_name                0.000000          0.000000    0.000000  0.000000   \ntime                     0.001688          0.000563    0.000000  0.001125   \nchange_amount            0.000000          0.000000    0.000000  0.000000   \nweather_descriptor       0.000000          0.000000    0.000000  0.000000   \nNone                     0.003391          0.000426    0.000091  0.011266   \nfood_type                0.000000          0.000000    0.004425  0.002212   \nevent_name               0.000000          0.000000    0.000000  0.032177   \nbusiness_type            0.000000          0.000000    0.000000  0.000000   \ndevice_type              0.461358          0.000000    0.000000  0.000000   \ntransport_agency         0.000000          0.031250    0.000000  0.000000   \ndrink_type               0.000000          0.000000    0.250000  0.000000   \nperson                   0.000000          0.000000    0.000000  0.265464   \naudiobook_author         0.000000          0.000000    0.000000  0.000000   \n\n                      audiobook_author  \nmedia_type                    0.001222  \nhouse_place                   0.000000  \nsong_name                     0.000000  \njoke_type                     0.000000  \nemail_folder                  0.000000  \npodcast_name                  0.000000  \nmeal_type                     0.000000  \nbusiness_name                 0.000000  \napp_name                      0.000000  \ndefinition_word               0.000000  \nartist_name                   0.000000  \ntime_zone                     0.000000  \ncurrency_name                 0.000000  \nrelation                      0.000000  \ntransport_name                0.000000  \npodcast_descriptor            0.000000  \npersonal_info                 0.000000  \ningredient                    0.000000  \nemail_address                 0.000000  \ntransport_descriptor          0.000000  \ngame_type                     0.000000  \nmovie_name                    0.000000  \nradio_name                    0.000000  \nsport_type                    0.000000  \nmovie_type                    0.000000  \nplace_name                    0.000000  \ncoffee_type                   0.000000  \ndate                          0.000000  \ntransport_type                0.000000  \ncolor_type                    0.000000  \nplayer_setting                0.000000  \ntimeofday                     0.000000  \nalarm_type                    0.000000  \ncooking_type                  0.000000  \ngeneral_frequency             0.000000  \naudiobook_name                0.000000  \norder_type                    0.000000  \nmusic_album                   0.000000  \nmusic_genre                   0.000000  \nplaylist_name                 0.000000  \nmusic_descriptor              0.000000  \nnews_topic                    0.000000  \nlist_name                     0.000000  \ngame_name                     0.000000  \ntime                          0.000000  \nchange_amount                 0.000000  \nweather_descriptor            0.000000  \nNone                          0.000076  \nfood_type                     0.000000  \nevent_name                    0.000000  \nbusiness_type                 0.000000  \ndevice_type                   0.000000  \ntransport_agency              0.000000  \ndrink_type                    0.000000  \nperson                        0.000000  \naudiobook_author              0.250000  \n\n[56 rows x 56 columns]",
      "text/html": "<div>\n<style scoped>\n    .dataframe tbody tr th:only-of-type {\n        vertical-align: middle;\n    }\n\n    .dataframe tbody tr th {\n        vertical-align: top;\n    }\n\n    .dataframe thead th {\n        text-align: right;\n    }\n</style>\n<table border=\"1\" class=\"dataframe\">\n  <thead>\n    <tr style=\"text-align: right;\">\n      <th></th>\n      <th>media_type</th>\n      <th>house_place</th>\n      <th>song_name</th>\n      <th>joke_type</th>\n      <th>email_folder</th>\n      <th>podcast_name</th>\n      <th>meal_type</th>\n      <th>business_name</th>\n      <th>app_name</th>\n      <th>definition_word</th>\n      <th>...</th>\n      <th>weather_descriptor</th>\n      <th>None</th>\n      <th>food_type</th>\n      <th>event_name</th>\n      <th>business_type</th>\n      <th>device_type</th>\n      <th>transport_agency</th>\n      <th>drink_type</th>\n      <th>person</th>\n      <th>audiobook_author</th>\n    </tr>\n  </thead>\n  <tbody>\n    <tr>\n      <th>media_type</th>\n      <td>0.421760</td>\n      <td>0.000000</td>\n      <td>0.001222</td>\n      <td>0.000000</td>\n      <td>0.000000</td>\n      <td>0.000000</td>\n      <td>0.000000</td>\n      <td>0.009780</td>\n      <td>0.000000</td>\n      <td>0.000000</td>\n      <td>...</td>\n      <td>0.000000</td>\n      <td>0.535452</td>\n      <td>0.000000</td>\n      <td>0.000000</td>\n      <td>0.000000</td>\n      <td>0.000000</td>\n      <td>0.000000</td>\n      <td>0.000000</td>\n      <td>0.002445</td>\n      <td>0.001222</td>\n    </tr>\n    <tr>\n      <th>house_place</th>\n      <td>0.000000</td>\n      <td>0.223529</td>\n      <td>0.000000</td>\n      <td>0.000000</td>\n      <td>0.000000</td>\n      <td>0.000000</td>\n      <td>0.000000</td>\n      <td>0.000000</td>\n      <td>0.000000</td>\n      <td>0.000000</td>\n      <td>...</td>\n      <td>0.000000</td>\n      <td>0.764706</td>\n      <td>0.000000</td>\n      <td>0.000000</td>\n      <td>0.000000</td>\n      <td>0.003922</td>\n      <td>0.000000</td>\n      <td>0.000000</td>\n      <td>0.000000</td>\n      <td>0.000000</td>\n    </tr>\n    <tr>\n      <th>song_name</th>\n      <td>0.000000</td>\n      <td>0.000000</td>\n      <td>0.191358</td>\n      <td>0.000000</td>\n      <td>0.000000</td>\n      <td>0.000000</td>\n      <td>0.000000</td>\n      <td>0.000000</td>\n      <td>0.000000</td>\n      <td>0.000000</td>\n      <td>...</td>\n      <td>0.000000</td>\n      <td>0.734568</td>\n      <td>0.000000</td>\n      <td>0.000000</td>\n      <td>0.000000</td>\n      <td>0.000000</td>\n      <td>0.000000</td>\n      <td>0.000000</td>\n      <td>0.000000</td>\n      <td>0.000000</td>\n    </tr>\n    <tr>\n      <th>joke_type</th>\n      <td>0.000000</td>\n      <td>0.000000</td>\n      <td>0.000000</td>\n      <td>0.270833</td>\n      <td>0.000000</td>\n      <td>0.000000</td>\n      <td>0.000000</td>\n      <td>0.000000</td>\n      <td>0.000000</td>\n      <td>0.000000</td>\n      <td>...</td>\n      <td>0.000000</td>\n      <td>0.729167</td>\n      <td>0.000000</td>\n      <td>0.000000</td>\n      <td>0.000000</td>\n      <td>0.000000</td>\n      <td>0.000000</td>\n      <td>0.000000</td>\n      <td>0.000000</td>\n      <td>0.000000</td>\n    </tr>\n    <tr>\n      <th>email_folder</th>\n      <td>0.000000</td>\n      <td>0.000000</td>\n      <td>0.000000</td>\n      <td>0.000000</td>\n      <td>0.418182</td>\n      <td>0.000000</td>\n      <td>0.000000</td>\n      <td>0.000000</td>\n      <td>0.000000</td>\n      <td>0.000000</td>\n      <td>...</td>\n      <td>0.000000</td>\n      <td>0.581818</td>\n      <td>0.000000</td>\n      <td>0.000000</td>\n      <td>0.000000</td>\n      <td>0.000000</td>\n      <td>0.000000</td>\n      <td>0.000000</td>\n      <td>0.000000</td>\n      <td>0.000000</td>\n    </tr>\n    <tr>\n      <th>podcast_name</th>\n      <td>0.000000</td>\n      <td>0.000000</td>\n      <td>0.000000</td>\n      <td>0.000000</td>\n      <td>0.000000</td>\n      <td>0.333333</td>\n      <td>0.000000</td>\n      <td>0.000000</td>\n      <td>0.000000</td>\n      <td>0.000000</td>\n      <td>...</td>\n      <td>0.000000</td>\n      <td>0.642857</td>\n      <td>0.000000</td>\n      <td>0.000000</td>\n      <td>0.000000</td>\n      <td>0.000000</td>\n      <td>0.000000</td>\n      <td>0.000000</td>\n      <td>0.000000</td>\n      <td>0.000000</td>\n    </tr>\n    <tr>\n      <th>meal_type</th>\n      <td>0.000000</td>\n      <td>0.000000</td>\n      <td>0.000000</td>\n      <td>0.000000</td>\n      <td>0.000000</td>\n      <td>0.000000</td>\n      <td>0.030769</td>\n      <td>0.000000</td>\n      <td>0.000000</td>\n      <td>0.000000</td>\n      <td>...</td>\n      <td>0.000000</td>\n      <td>0.753846</td>\n      <td>0.030769</td>\n      <td>0.015385</td>\n      <td>0.000000</td>\n      <td>0.000000</td>\n      <td>0.000000</td>\n      <td>0.000000</td>\n      <td>0.000000</td>\n      <td>0.000000</td>\n    </tr>\n    <tr>\n      <th>business_name</th>\n      <td>0.069111</td>\n      <td>0.000000</td>\n      <td>0.000000</td>\n      <td>0.000000</td>\n      <td>0.000000</td>\n      <td>0.000000</td>\n      <td>0.000000</td>\n      <td>0.454161</td>\n      <td>0.000000</td>\n      <td>0.000000</td>\n      <td>...</td>\n      <td>0.000000</td>\n      <td>0.454161</td>\n      <td>0.004231</td>\n      <td>0.000000</td>\n      <td>0.000000</td>\n      <td>0.000000</td>\n      <td>0.000000</td>\n      <td>0.000000</td>\n      <td>0.000000</td>\n      <td>0.000000</td>\n    </tr>\n    <tr>\n      <th>app_name</th>\n      <td>0.000000</td>\n      <td>0.000000</td>\n      <td>0.000000</td>\n      <td>0.000000</td>\n      <td>0.000000</td>\n      <td>0.000000</td>\n      <td>0.000000</td>\n      <td>0.000000</td>\n      <td>0.163934</td>\n      <td>0.000000</td>\n      <td>...</td>\n      <td>0.000000</td>\n      <td>0.770492</td>\n      <td>0.000000</td>\n      <td>0.000000</td>\n      <td>0.000000</td>\n      <td>0.000000</td>\n      <td>0.000000</td>\n      <td>0.000000</td>\n      <td>0.000000</td>\n      <td>0.000000</td>\n    </tr>\n    <tr>\n      <th>definition_word</th>\n      <td>0.000000</td>\n      <td>0.000000</td>\n      <td>0.000000</td>\n      <td>0.000000</td>\n      <td>0.000000</td>\n      <td>0.000000</td>\n      <td>0.000000</td>\n      <td>0.000000</td>\n      <td>0.000000</td>\n      <td>0.305810</td>\n      <td>...</td>\n      <td>0.000000</td>\n      <td>0.694190</td>\n      <td>0.000000</td>\n      <td>0.000000</td>\n      <td>0.000000</td>\n      <td>0.000000</td>\n      <td>0.000000</td>\n      <td>0.000000</td>\n      <td>0.000000</td>\n      <td>0.000000</td>\n    </tr>\n    <tr>\n      <th>artist_name</th>\n      <td>0.000000</td>\n      <td>0.000000</td>\n      <td>0.006173</td>\n      <td>0.000000</td>\n      <td>0.000000</td>\n      <td>0.000000</td>\n      <td>0.000000</td>\n      <td>0.000000</td>\n      <td>0.000000</td>\n      <td>0.000000</td>\n      <td>...</td>\n      <td>0.000000</td>\n      <td>0.697531</td>\n      <td>0.000000</td>\n      <td>0.000000</td>\n      <td>0.000000</td>\n      <td>0.000000</td>\n      <td>0.000000</td>\n      <td>0.000000</td>\n      <td>0.003086</td>\n      <td>0.000000</td>\n    </tr>\n    <tr>\n      <th>time_zone</th>\n      <td>0.000000</td>\n      <td>0.000000</td>\n      <td>0.000000</td>\n      <td>0.000000</td>\n      <td>0.000000</td>\n      <td>0.000000</td>\n      <td>0.000000</td>\n      <td>0.000000</td>\n      <td>0.000000</td>\n      <td>0.000000</td>\n      <td>...</td>\n      <td>0.000000</td>\n      <td>0.625000</td>\n      <td>0.000000</td>\n      <td>0.000000</td>\n      <td>0.000000</td>\n      <td>0.000000</td>\n      <td>0.000000</td>\n      <td>0.000000</td>\n      <td>0.000000</td>\n      <td>0.000000</td>\n    </tr>\n    <tr>\n      <th>currency_name</th>\n      <td>0.000000</td>\n      <td>0.000000</td>\n      <td>0.000000</td>\n      <td>0.000000</td>\n      <td>0.000000</td>\n      <td>0.000000</td>\n      <td>0.000000</td>\n      <td>0.000000</td>\n      <td>0.000000</td>\n      <td>0.006601</td>\n      <td>...</td>\n      <td>0.000000</td>\n      <td>0.676568</td>\n      <td>0.000000</td>\n      <td>0.000000</td>\n      <td>0.000000</td>\n      <td>0.000000</td>\n      <td>0.000000</td>\n      <td>0.000000</td>\n      <td>0.000000</td>\n      <td>0.000000</td>\n    </tr>\n    <tr>\n      <th>relation</th>\n      <td>0.010791</td>\n      <td>0.000000</td>\n      <td>0.000000</td>\n      <td>0.000000</td>\n      <td>0.000000</td>\n      <td>0.000000</td>\n      <td>0.000000</td>\n      <td>0.000000</td>\n      <td>0.000000</td>\n      <td>0.000000</td>\n      <td>...</td>\n      <td>0.000000</td>\n      <td>0.841727</td>\n      <td>0.000000</td>\n      <td>0.000000</td>\n      <td>0.000000</td>\n      <td>0.000000</td>\n      <td>0.000000</td>\n      <td>0.000000</td>\n      <td>0.021583</td>\n      <td>0.000000</td>\n    </tr>\n    <tr>\n      <th>transport_name</th>\n      <td>0.000000</td>\n      <td>0.000000</td>\n      <td>0.000000</td>\n      <td>0.000000</td>\n      <td>0.000000</td>\n      <td>0.000000</td>\n      <td>0.000000</td>\n      <td>0.000000</td>\n      <td>0.000000</td>\n      <td>0.000000</td>\n      <td>...</td>\n      <td>0.000000</td>\n      <td>0.285714</td>\n      <td>0.000000</td>\n      <td>0.000000</td>\n      <td>0.000000</td>\n      <td>0.000000</td>\n      <td>0.000000</td>\n      <td>0.000000</td>\n      <td>0.000000</td>\n      <td>0.000000</td>\n    </tr>\n    <tr>\n      <th>podcast_descriptor</th>\n      <td>0.000000</td>\n      <td>0.000000</td>\n      <td>0.000000</td>\n      <td>0.000000</td>\n      <td>0.000000</td>\n      <td>0.045455</td>\n      <td>0.000000</td>\n      <td>0.000000</td>\n      <td>0.000000</td>\n      <td>0.000000</td>\n      <td>...</td>\n      <td>0.000000</td>\n      <td>0.370130</td>\n      <td>0.000000</td>\n      <td>0.000000</td>\n      <td>0.000000</td>\n      <td>0.000000</td>\n      <td>0.000000</td>\n      <td>0.000000</td>\n      <td>0.000000</td>\n      <td>0.000000</td>\n    </tr>\n    <tr>\n      <th>personal_info</th>\n      <td>0.000000</td>\n      <td>0.000000</td>\n      <td>0.000000</td>\n      <td>0.000000</td>\n      <td>0.007299</td>\n      <td>0.000000</td>\n      <td>0.000000</td>\n      <td>0.014599</td>\n      <td>0.000000</td>\n      <td>0.000000</td>\n      <td>...</td>\n      <td>0.000000</td>\n      <td>0.175182</td>\n      <td>0.000000</td>\n      <td>0.007299</td>\n      <td>0.000000</td>\n      <td>0.000000</td>\n      <td>0.000000</td>\n      <td>0.000000</td>\n      <td>0.291971</td>\n      <td>0.000000</td>\n    </tr>\n    <tr>\n      <th>ingredient</th>\n      <td>0.000000</td>\n      <td>0.000000</td>\n      <td>0.000000</td>\n      <td>0.000000</td>\n      <td>0.000000</td>\n      <td>0.000000</td>\n      <td>0.000000</td>\n      <td>0.000000</td>\n      <td>0.000000</td>\n      <td>0.000000</td>\n      <td>...</td>\n      <td>0.000000</td>\n      <td>0.600000</td>\n      <td>0.033333</td>\n      <td>0.000000</td>\n      <td>0.000000</td>\n      <td>0.000000</td>\n      <td>0.000000</td>\n      <td>0.000000</td>\n      <td>0.000000</td>\n      <td>0.000000</td>\n    </tr>\n    <tr>\n      <th>email_address</th>\n      <td>0.000000</td>\n      <td>0.000000</td>\n      <td>0.000000</td>\n      <td>0.000000</td>\n      <td>0.000000</td>\n      <td>0.000000</td>\n      <td>0.000000</td>\n      <td>0.000000</td>\n      <td>0.000000</td>\n      <td>0.000000</td>\n      <td>...</td>\n      <td>0.000000</td>\n      <td>0.181818</td>\n      <td>0.000000</td>\n      <td>0.000000</td>\n      <td>0.000000</td>\n      <td>0.000000</td>\n      <td>0.000000</td>\n      <td>0.000000</td>\n      <td>0.000000</td>\n      <td>0.000000</td>\n    </tr>\n    <tr>\n      <th>transport_descriptor</th>\n      <td>0.000000</td>\n      <td>0.000000</td>\n      <td>0.000000</td>\n      <td>0.000000</td>\n      <td>0.000000</td>\n      <td>0.000000</td>\n      <td>0.000000</td>\n      <td>0.000000</td>\n      <td>0.000000</td>\n      <td>0.000000</td>\n      <td>...</td>\n      <td>0.000000</td>\n      <td>0.347826</td>\n      <td>0.000000</td>\n      <td>0.000000</td>\n      <td>0.000000</td>\n      <td>0.000000</td>\n      <td>0.000000</td>\n      <td>0.000000</td>\n      <td>0.000000</td>\n      <td>0.000000</td>\n    </tr>\n    <tr>\n      <th>game_type</th>\n      <td>0.000000</td>\n      <td>0.000000</td>\n      <td>0.000000</td>\n      <td>0.000000</td>\n      <td>0.000000</td>\n      <td>0.000000</td>\n      <td>0.000000</td>\n      <td>0.000000</td>\n      <td>0.000000</td>\n      <td>0.000000</td>\n      <td>...</td>\n      <td>0.000000</td>\n      <td>1.000000</td>\n      <td>0.000000</td>\n      <td>0.000000</td>\n      <td>0.000000</td>\n      <td>0.000000</td>\n      <td>0.000000</td>\n      <td>0.000000</td>\n      <td>0.000000</td>\n      <td>0.000000</td>\n    </tr>\n    <tr>\n      <th>movie_name</th>\n      <td>0.000000</td>\n      <td>0.000000</td>\n      <td>0.000000</td>\n      <td>0.000000</td>\n      <td>0.000000</td>\n      <td>0.000000</td>\n      <td>0.000000</td>\n      <td>0.000000</td>\n      <td>0.000000</td>\n      <td>0.000000</td>\n      <td>...</td>\n      <td>0.000000</td>\n      <td>0.419355</td>\n      <td>0.000000</td>\n      <td>0.000000</td>\n      <td>0.000000</td>\n      <td>0.000000</td>\n      <td>0.000000</td>\n      <td>0.000000</td>\n      <td>0.000000</td>\n      <td>0.000000</td>\n    </tr>\n    <tr>\n      <th>radio_name</th>\n      <td>0.000000</td>\n      <td>0.000000</td>\n      <td>0.000000</td>\n      <td>0.000000</td>\n      <td>0.000000</td>\n      <td>0.000000</td>\n      <td>0.000000</td>\n      <td>0.000000</td>\n      <td>0.000000</td>\n      <td>0.000000</td>\n      <td>...</td>\n      <td>0.000000</td>\n      <td>0.485185</td>\n      <td>0.000000</td>\n      <td>0.000000</td>\n      <td>0.000000</td>\n      <td>0.000000</td>\n      <td>0.000000</td>\n      <td>0.000000</td>\n      <td>0.000000</td>\n      <td>0.000000</td>\n    </tr>\n    <tr>\n      <th>sport_type</th>\n      <td>0.000000</td>\n      <td>0.000000</td>\n      <td>0.000000</td>\n      <td>0.000000</td>\n      <td>0.000000</td>\n      <td>0.000000</td>\n      <td>0.000000</td>\n      <td>0.000000</td>\n      <td>0.000000</td>\n      <td>0.000000</td>\n      <td>...</td>\n      <td>0.000000</td>\n      <td>0.375000</td>\n      <td>0.000000</td>\n      <td>0.000000</td>\n      <td>0.000000</td>\n      <td>0.000000</td>\n      <td>0.000000</td>\n      <td>0.000000</td>\n      <td>0.000000</td>\n      <td>0.000000</td>\n    </tr>\n    <tr>\n      <th>movie_type</th>\n      <td>0.000000</td>\n      <td>0.000000</td>\n      <td>0.000000</td>\n      <td>0.000000</td>\n      <td>0.000000</td>\n      <td>0.000000</td>\n      <td>0.000000</td>\n      <td>0.000000</td>\n      <td>0.000000</td>\n      <td>0.000000</td>\n      <td>...</td>\n      <td>0.000000</td>\n      <td>0.473684</td>\n      <td>0.000000</td>\n      <td>0.000000</td>\n      <td>0.000000</td>\n      <td>0.000000</td>\n      <td>0.000000</td>\n      <td>0.000000</td>\n      <td>0.000000</td>\n      <td>0.000000</td>\n    </tr>\n    <tr>\n      <th>place_name</th>\n      <td>0.001413</td>\n      <td>0.000000</td>\n      <td>0.000707</td>\n      <td>0.000000</td>\n      <td>0.000000</td>\n      <td>0.000000</td>\n      <td>0.000000</td>\n      <td>0.000000</td>\n      <td>0.000000</td>\n      <td>0.000000</td>\n      <td>...</td>\n      <td>0.009894</td>\n      <td>0.726502</td>\n      <td>0.000000</td>\n      <td>0.002120</td>\n      <td>0.002827</td>\n      <td>0.000000</td>\n      <td>0.000707</td>\n      <td>0.000000</td>\n      <td>0.001413</td>\n      <td>0.000000</td>\n    </tr>\n    <tr>\n      <th>coffee_type</th>\n      <td>0.000000</td>\n      <td>0.000000</td>\n      <td>0.000000</td>\n      <td>0.000000</td>\n      <td>0.000000</td>\n      <td>0.000000</td>\n      <td>0.000000</td>\n      <td>0.000000</td>\n      <td>0.000000</td>\n      <td>0.000000</td>\n      <td>...</td>\n      <td>0.000000</td>\n      <td>0.536585</td>\n      <td>0.000000</td>\n      <td>0.000000</td>\n      <td>0.000000</td>\n      <td>0.000000</td>\n      <td>0.000000</td>\n      <td>0.000000</td>\n      <td>0.000000</td>\n      <td>0.000000</td>\n    </tr>\n    <tr>\n      <th>date</th>\n      <td>0.002609</td>\n      <td>0.000000</td>\n      <td>0.000000</td>\n      <td>0.000000</td>\n      <td>0.000000</td>\n      <td>0.000000</td>\n      <td>0.001118</td>\n      <td>0.001118</td>\n      <td>0.000000</td>\n      <td>0.000000</td>\n      <td>...</td>\n      <td>0.019754</td>\n      <td>0.564666</td>\n      <td>0.000373</td>\n      <td>0.021245</td>\n      <td>0.000000</td>\n      <td>0.000745</td>\n      <td>0.000000</td>\n      <td>0.000373</td>\n      <td>0.001864</td>\n      <td>0.000000</td>\n    </tr>\n    <tr>\n      <th>transport_type</th>\n      <td>0.000000</td>\n      <td>0.000000</td>\n      <td>0.000000</td>\n      <td>0.000000</td>\n      <td>0.000000</td>\n      <td>0.000000</td>\n      <td>0.000000</td>\n      <td>0.000000</td>\n      <td>0.000000</td>\n      <td>0.000000</td>\n      <td>...</td>\n      <td>0.000000</td>\n      <td>0.884615</td>\n      <td>0.000000</td>\n      <td>0.000000</td>\n      <td>0.000000</td>\n      <td>0.000000</td>\n      <td>0.003205</td>\n      <td>0.000000</td>\n      <td>0.000000</td>\n      <td>0.000000</td>\n    </tr>\n    <tr>\n      <th>color_type</th>\n      <td>0.000000</td>\n      <td>0.000000</td>\n      <td>0.000000</td>\n      <td>0.000000</td>\n      <td>0.000000</td>\n      <td>0.000000</td>\n      <td>0.000000</td>\n      <td>0.000000</td>\n      <td>0.000000</td>\n      <td>0.000000</td>\n      <td>...</td>\n      <td>0.000000</td>\n      <td>0.883929</td>\n      <td>0.000000</td>\n      <td>0.000000</td>\n      <td>0.000000</td>\n      <td>0.000000</td>\n      <td>0.000000</td>\n      <td>0.000000</td>\n      <td>0.000000</td>\n      <td>0.000000</td>\n    </tr>\n    <tr>\n      <th>player_setting</th>\n      <td>0.037879</td>\n      <td>0.000000</td>\n      <td>0.002525</td>\n      <td>0.000000</td>\n      <td>0.000000</td>\n      <td>0.000000</td>\n      <td>0.000000</td>\n      <td>0.000000</td>\n      <td>0.005051</td>\n      <td>0.000000</td>\n      <td>...</td>\n      <td>0.000000</td>\n      <td>0.295455</td>\n      <td>0.000000</td>\n      <td>0.000000</td>\n      <td>0.000000</td>\n      <td>0.002525</td>\n      <td>0.000000</td>\n      <td>0.000000</td>\n      <td>0.000000</td>\n      <td>0.000000</td>\n    </tr>\n    <tr>\n      <th>timeofday</th>\n      <td>0.000000</td>\n      <td>0.000000</td>\n      <td>0.000000</td>\n      <td>0.000000</td>\n      <td>0.000000</td>\n      <td>0.000000</td>\n      <td>0.003937</td>\n      <td>0.000000</td>\n      <td>0.000000</td>\n      <td>0.000000</td>\n      <td>...</td>\n      <td>0.059055</td>\n      <td>0.673228</td>\n      <td>0.000000</td>\n      <td>0.019685</td>\n      <td>0.003937</td>\n      <td>0.000000</td>\n      <td>0.000000</td>\n      <td>0.000000</td>\n      <td>0.007874</td>\n      <td>0.000000</td>\n    </tr>\n    <tr>\n      <th>alarm_type</th>\n      <td>0.000000</td>\n      <td>0.000000</td>\n      <td>0.000000</td>\n      <td>0.000000</td>\n      <td>0.000000</td>\n      <td>0.000000</td>\n      <td>0.000000</td>\n      <td>0.000000</td>\n      <td>0.000000</td>\n      <td>0.000000</td>\n      <td>...</td>\n      <td>0.000000</td>\n      <td>0.642857</td>\n      <td>0.000000</td>\n      <td>0.000000</td>\n      <td>0.000000</td>\n      <td>0.000000</td>\n      <td>0.000000</td>\n      <td>0.000000</td>\n      <td>0.000000</td>\n      <td>0.000000</td>\n    </tr>\n    <tr>\n      <th>cooking_type</th>\n      <td>0.000000</td>\n      <td>0.000000</td>\n      <td>0.000000</td>\n      <td>0.000000</td>\n      <td>0.000000</td>\n      <td>0.000000</td>\n      <td>0.000000</td>\n      <td>0.000000</td>\n      <td>0.000000</td>\n      <td>0.000000</td>\n      <td>...</td>\n      <td>0.000000</td>\n      <td>0.523810</td>\n      <td>0.190476</td>\n      <td>0.000000</td>\n      <td>0.000000</td>\n      <td>0.000000</td>\n      <td>0.000000</td>\n      <td>0.000000</td>\n      <td>0.000000</td>\n      <td>0.000000</td>\n    </tr>\n    <tr>\n      <th>general_frequency</th>\n      <td>0.000000</td>\n      <td>0.000000</td>\n      <td>0.000000</td>\n      <td>0.000000</td>\n      <td>0.000000</td>\n      <td>0.000000</td>\n      <td>0.000000</td>\n      <td>0.000000</td>\n      <td>0.000000</td>\n      <td>0.000000</td>\n      <td>...</td>\n      <td>0.000000</td>\n      <td>0.436364</td>\n      <td>0.000000</td>\n      <td>0.030303</td>\n      <td>0.000000</td>\n      <td>0.000000</td>\n      <td>0.000000</td>\n      <td>0.000000</td>\n      <td>0.000000</td>\n      <td>0.000000</td>\n    </tr>\n    <tr>\n      <th>audiobook_name</th>\n      <td>0.000000</td>\n      <td>0.000000</td>\n      <td>0.000000</td>\n      <td>0.000000</td>\n      <td>0.000000</td>\n      <td>0.000000</td>\n      <td>0.000000</td>\n      <td>0.000000</td>\n      <td>0.000000</td>\n      <td>0.000000</td>\n      <td>...</td>\n      <td>0.000000</td>\n      <td>0.603448</td>\n      <td>0.000000</td>\n      <td>0.000000</td>\n      <td>0.000000</td>\n      <td>0.000000</td>\n      <td>0.000000</td>\n      <td>0.000000</td>\n      <td>0.000000</td>\n      <td>0.000000</td>\n    </tr>\n    <tr>\n      <th>order_type</th>\n      <td>0.000000</td>\n      <td>0.000000</td>\n      <td>0.000000</td>\n      <td>0.000000</td>\n      <td>0.000000</td>\n      <td>0.000000</td>\n      <td>0.000000</td>\n      <td>0.000000</td>\n      <td>0.000000</td>\n      <td>0.000000</td>\n      <td>...</td>\n      <td>0.000000</td>\n      <td>0.592179</td>\n      <td>0.000000</td>\n      <td>0.000000</td>\n      <td>0.000000</td>\n      <td>0.000000</td>\n      <td>0.000000</td>\n      <td>0.000000</td>\n      <td>0.000000</td>\n      <td>0.000000</td>\n    </tr>\n    <tr>\n      <th>music_album</th>\n      <td>0.000000</td>\n      <td>0.000000</td>\n      <td>0.000000</td>\n      <td>0.000000</td>\n      <td>0.000000</td>\n      <td>0.000000</td>\n      <td>0.000000</td>\n      <td>0.000000</td>\n      <td>0.000000</td>\n      <td>0.000000</td>\n      <td>...</td>\n      <td>0.000000</td>\n      <td>0.333333</td>\n      <td>0.000000</td>\n      <td>0.000000</td>\n      <td>0.000000</td>\n      <td>0.000000</td>\n      <td>0.000000</td>\n      <td>0.000000</td>\n      <td>0.000000</td>\n      <td>0.000000</td>\n    </tr>\n    <tr>\n      <th>music_genre</th>\n      <td>0.000000</td>\n      <td>0.000000</td>\n      <td>0.000000</td>\n      <td>0.000000</td>\n      <td>0.000000</td>\n      <td>0.000000</td>\n      <td>0.000000</td>\n      <td>0.000000</td>\n      <td>0.000000</td>\n      <td>0.000000</td>\n      <td>...</td>\n      <td>0.000000</td>\n      <td>0.782222</td>\n      <td>0.000000</td>\n      <td>0.000000</td>\n      <td>0.000000</td>\n      <td>0.000000</td>\n      <td>0.000000</td>\n      <td>0.000000</td>\n      <td>0.000000</td>\n      <td>0.000000</td>\n    </tr>\n    <tr>\n      <th>playlist_name</th>\n      <td>0.000000</td>\n      <td>0.000000</td>\n      <td>0.000000</td>\n      <td>0.000000</td>\n      <td>0.000000</td>\n      <td>0.000000</td>\n      <td>0.000000</td>\n      <td>0.000000</td>\n      <td>0.000000</td>\n      <td>0.000000</td>\n      <td>...</td>\n      <td>0.000000</td>\n      <td>0.363128</td>\n      <td>0.000000</td>\n      <td>0.000000</td>\n      <td>0.000000</td>\n      <td>0.000000</td>\n      <td>0.000000</td>\n      <td>0.000000</td>\n      <td>0.000000</td>\n      <td>0.000000</td>\n    </tr>\n    <tr>\n      <th>music_descriptor</th>\n      <td>0.000000</td>\n      <td>0.000000</td>\n      <td>0.000000</td>\n      <td>0.000000</td>\n      <td>0.000000</td>\n      <td>0.000000</td>\n      <td>0.000000</td>\n      <td>0.000000</td>\n      <td>0.010204</td>\n      <td>0.000000</td>\n      <td>...</td>\n      <td>0.000000</td>\n      <td>0.397959</td>\n      <td>0.000000</td>\n      <td>0.000000</td>\n      <td>0.000000</td>\n      <td>0.000000</td>\n      <td>0.000000</td>\n      <td>0.000000</td>\n      <td>0.000000</td>\n      <td>0.000000</td>\n    </tr>\n    <tr>\n      <th>news_topic</th>\n      <td>0.002907</td>\n      <td>0.000000</td>\n      <td>0.000000</td>\n      <td>0.000000</td>\n      <td>0.000000</td>\n      <td>0.000000</td>\n      <td>0.000000</td>\n      <td>0.000000</td>\n      <td>0.000000</td>\n      <td>0.000000</td>\n      <td>...</td>\n      <td>0.000000</td>\n      <td>0.465116</td>\n      <td>0.000000</td>\n      <td>0.000000</td>\n      <td>0.000000</td>\n      <td>0.000000</td>\n      <td>0.000000</td>\n      <td>0.000000</td>\n      <td>0.005814</td>\n      <td>0.000000</td>\n    </tr>\n    <tr>\n      <th>list_name</th>\n      <td>0.000000</td>\n      <td>0.000000</td>\n      <td>0.003145</td>\n      <td>0.000000</td>\n      <td>0.000000</td>\n      <td>0.000000</td>\n      <td>0.000000</td>\n      <td>0.000000</td>\n      <td>0.000000</td>\n      <td>0.000000</td>\n      <td>...</td>\n      <td>0.000000</td>\n      <td>0.569182</td>\n      <td>0.000000</td>\n      <td>0.000000</td>\n      <td>0.000000</td>\n      <td>0.000000</td>\n      <td>0.000000</td>\n      <td>0.000000</td>\n      <td>0.000000</td>\n      <td>0.000000</td>\n    </tr>\n    <tr>\n      <th>game_name</th>\n      <td>0.000000</td>\n      <td>0.000000</td>\n      <td>0.000000</td>\n      <td>0.000000</td>\n      <td>0.000000</td>\n      <td>0.000000</td>\n      <td>0.000000</td>\n      <td>0.000000</td>\n      <td>0.000000</td>\n      <td>0.000000</td>\n      <td>...</td>\n      <td>0.000000</td>\n      <td>0.617647</td>\n      <td>0.000000</td>\n      <td>0.000000</td>\n      <td>0.000000</td>\n      <td>0.000000</td>\n      <td>0.000000</td>\n      <td>0.000000</td>\n      <td>0.000000</td>\n      <td>0.000000</td>\n    </tr>\n    <tr>\n      <th>time</th>\n      <td>0.000000</td>\n      <td>0.000000</td>\n      <td>0.000000</td>\n      <td>0.000000</td>\n      <td>0.000000</td>\n      <td>0.000000</td>\n      <td>0.001125</td>\n      <td>0.000000</td>\n      <td>0.000000</td>\n      <td>0.000000</td>\n      <td>...</td>\n      <td>0.003939</td>\n      <td>0.372538</td>\n      <td>0.000000</td>\n      <td>0.019133</td>\n      <td>0.000000</td>\n      <td>0.001688</td>\n      <td>0.000563</td>\n      <td>0.000000</td>\n      <td>0.001125</td>\n      <td>0.000000</td>\n    </tr>\n    <tr>\n      <th>change_amount</th>\n      <td>0.000000</td>\n      <td>0.009009</td>\n      <td>0.000000</td>\n      <td>0.000000</td>\n      <td>0.000000</td>\n      <td>0.000000</td>\n      <td>0.000000</td>\n      <td>0.000000</td>\n      <td>0.000000</td>\n      <td>0.000000</td>\n      <td>...</td>\n      <td>0.000000</td>\n      <td>0.423423</td>\n      <td>0.000000</td>\n      <td>0.000000</td>\n      <td>0.000000</td>\n      <td>0.000000</td>\n      <td>0.000000</td>\n      <td>0.000000</td>\n      <td>0.000000</td>\n      <td>0.000000</td>\n    </tr>\n    <tr>\n      <th>weather_descriptor</th>\n      <td>0.000000</td>\n      <td>0.000000</td>\n      <td>0.002070</td>\n      <td>0.000000</td>\n      <td>0.000000</td>\n      <td>0.000000</td>\n      <td>0.000000</td>\n      <td>0.000000</td>\n      <td>0.000000</td>\n      <td>0.000000</td>\n      <td>...</td>\n      <td>0.347826</td>\n      <td>0.606625</td>\n      <td>0.000000</td>\n      <td>0.000000</td>\n      <td>0.000000</td>\n      <td>0.000000</td>\n      <td>0.000000</td>\n      <td>0.000000</td>\n      <td>0.000000</td>\n      <td>0.000000</td>\n    </tr>\n    <tr>\n      <th>None</th>\n      <td>0.006021</td>\n      <td>0.002889</td>\n      <td>0.001885</td>\n      <td>0.000532</td>\n      <td>0.000471</td>\n      <td>0.000745</td>\n      <td>0.000867</td>\n      <td>0.005549</td>\n      <td>0.000715</td>\n      <td>0.003421</td>\n      <td>...</td>\n      <td>0.003421</td>\n      <td>0.848051</td>\n      <td>0.003938</td>\n      <td>0.013288</td>\n      <td>0.002737</td>\n      <td>0.003391</td>\n      <td>0.000426</td>\n      <td>0.000091</td>\n      <td>0.011266</td>\n      <td>0.000076</td>\n    </tr>\n    <tr>\n      <th>food_type</th>\n      <td>0.000000</td>\n      <td>0.000000</td>\n      <td>0.000000</td>\n      <td>0.000000</td>\n      <td>0.000000</td>\n      <td>0.000000</td>\n      <td>0.000000</td>\n      <td>0.002212</td>\n      <td>0.000000</td>\n      <td>0.000000</td>\n      <td>...</td>\n      <td>0.000000</td>\n      <td>0.603982</td>\n      <td>0.351770</td>\n      <td>0.000000</td>\n      <td>0.006637</td>\n      <td>0.000000</td>\n      <td>0.000000</td>\n      <td>0.004425</td>\n      <td>0.002212</td>\n      <td>0.000000</td>\n    </tr>\n    <tr>\n      <th>event_name</th>\n      <td>0.000000</td>\n      <td>0.000000</td>\n      <td>0.000000</td>\n      <td>0.000000</td>\n      <td>0.000000</td>\n      <td>0.000000</td>\n      <td>0.000000</td>\n      <td>0.000000</td>\n      <td>0.000000</td>\n      <td>0.000000</td>\n      <td>...</td>\n      <td>0.000631</td>\n      <td>0.468139</td>\n      <td>0.000000</td>\n      <td>0.371609</td>\n      <td>0.000000</td>\n      <td>0.000000</td>\n      <td>0.000000</td>\n      <td>0.000000</td>\n      <td>0.032177</td>\n      <td>0.000000</td>\n    </tr>\n    <tr>\n      <th>business_type</th>\n      <td>0.000000</td>\n      <td>0.000000</td>\n      <td>0.000000</td>\n      <td>0.000000</td>\n      <td>0.000000</td>\n      <td>0.000000</td>\n      <td>0.000000</td>\n      <td>0.031873</td>\n      <td>0.000000</td>\n      <td>0.000000</td>\n      <td>...</td>\n      <td>0.000000</td>\n      <td>0.581673</td>\n      <td>0.087649</td>\n      <td>0.003984</td>\n      <td>0.250996</td>\n      <td>0.000000</td>\n      <td>0.000000</td>\n      <td>0.000000</td>\n      <td>0.000000</td>\n      <td>0.000000</td>\n    </tr>\n    <tr>\n      <th>device_type</th>\n      <td>0.000000</td>\n      <td>0.016393</td>\n      <td>0.000000</td>\n      <td>0.000000</td>\n      <td>0.000000</td>\n      <td>0.000000</td>\n      <td>0.000000</td>\n      <td>0.000000</td>\n      <td>0.002342</td>\n      <td>0.000000</td>\n      <td>...</td>\n      <td>0.000000</td>\n      <td>0.512881</td>\n      <td>0.000000</td>\n      <td>0.000000</td>\n      <td>0.000000</td>\n      <td>0.461358</td>\n      <td>0.000000</td>\n      <td>0.000000</td>\n      <td>0.000000</td>\n      <td>0.000000</td>\n    </tr>\n    <tr>\n      <th>transport_agency</th>\n      <td>0.000000</td>\n      <td>0.000000</td>\n      <td>0.000000</td>\n      <td>0.000000</td>\n      <td>0.000000</td>\n      <td>0.000000</td>\n      <td>0.000000</td>\n      <td>0.000000</td>\n      <td>0.000000</td>\n      <td>0.000000</td>\n      <td>...</td>\n      <td>0.000000</td>\n      <td>0.968750</td>\n      <td>0.000000</td>\n      <td>0.000000</td>\n      <td>0.000000</td>\n      <td>0.000000</td>\n      <td>0.031250</td>\n      <td>0.000000</td>\n      <td>0.000000</td>\n      <td>0.000000</td>\n    </tr>\n    <tr>\n      <th>drink_type</th>\n      <td>0.000000</td>\n      <td>0.000000</td>\n      <td>0.000000</td>\n      <td>0.000000</td>\n      <td>0.000000</td>\n      <td>0.000000</td>\n      <td>0.000000</td>\n      <td>0.000000</td>\n      <td>0.000000</td>\n      <td>0.000000</td>\n      <td>...</td>\n      <td>0.000000</td>\n      <td>0.666667</td>\n      <td>0.083333</td>\n      <td>0.000000</td>\n      <td>0.000000</td>\n      <td>0.000000</td>\n      <td>0.000000</td>\n      <td>0.250000</td>\n      <td>0.000000</td>\n      <td>0.000000</td>\n    </tr>\n    <tr>\n      <th>person</th>\n      <td>0.000000</td>\n      <td>0.000000</td>\n      <td>0.000000</td>\n      <td>0.000000</td>\n      <td>0.000000</td>\n      <td>0.000000</td>\n      <td>0.000000</td>\n      <td>0.000000</td>\n      <td>0.000000</td>\n      <td>0.000000</td>\n      <td>...</td>\n      <td>0.000000</td>\n      <td>0.707045</td>\n      <td>0.000000</td>\n      <td>0.012887</td>\n      <td>0.000000</td>\n      <td>0.000000</td>\n      <td>0.000000</td>\n      <td>0.000000</td>\n      <td>0.265464</td>\n      <td>0.000000</td>\n    </tr>\n    <tr>\n      <th>audiobook_author</th>\n      <td>0.000000</td>\n      <td>0.000000</td>\n      <td>0.000000</td>\n      <td>0.000000</td>\n      <td>0.000000</td>\n      <td>0.000000</td>\n      <td>0.000000</td>\n      <td>0.000000</td>\n      <td>0.000000</td>\n      <td>0.000000</td>\n      <td>...</td>\n      <td>0.000000</td>\n      <td>0.625000</td>\n      <td>0.000000</td>\n      <td>0.000000</td>\n      <td>0.000000</td>\n      <td>0.000000</td>\n      <td>0.000000</td>\n      <td>0.000000</td>\n      <td>0.000000</td>\n      <td>0.250000</td>\n    </tr>\n  </tbody>\n</table>\n<p>56 rows × 56 columns</p>\n</div>"
     },
     "metadata": {},
     "output_type": "display_data"
    }
   ]
  },
  {
   "cell_type": "code",
   "source": [
    "def viterbi(words, train_bag):\n",
    "    state = []\n",
    "    T = list(set([pair[1] for pair in train_bag]))\n",
    "\n",
    "    for key, word in enumerate(words):\n",
    "        #initialise list of probability column for a given observation\n",
    "        p = []\n",
    "        for tag in T:\n",
    "            if key == 0:\n",
    "                transition_p = 1  # tags_df.loc['.', tag]\n",
    "            else:\n",
    "                transition_p = tags_df.loc[state[-1], tag]\n",
    "\n",
    "            # compute emission and state probabilities\n",
    "            prb = word_given_tag(words[key], tag, train_tagged_words_unstructured)\n",
    "            emission_p = prb[0]/prb[1]\n",
    "            state_probability = emission_p * transition_p\n",
    "            p.append(state_probability)\n",
    "\n",
    "        pmax = max(p)\n",
    "        # getting state for which probability is maximum\n",
    "        state_max = T[p.index(pmax)]\n",
    "        state.append(state_max)\n",
    "    return list(zip(words, state))"
   ],
   "metadata": {
    "id": "3KtdAA41SGde",
    "ExecuteTime": {
     "end_time": "2023-09-01T18:09:20.973538Z",
     "start_time": "2023-09-01T18:09:20.934693Z"
    }
   },
   "execution_count": 16,
   "outputs": []
  },
  {
   "cell_type": "markdown",
   "source": [
    "<br>\n",
    "<hr>\n",
    "\n",
    "<h1 dir=\"rtl\">\n",
    "تست\n",
    "<h1>\n",
    "<h6 dir=\"rtl\">\n",
    "پیاده‌سازی به اتمام رسیده. با صدا زدن تابع viterbi می‌توانیم خروجی مدل را مشاهده کنیم.\n",
    "</h2>"
   ],
   "metadata": {
    "id": "LVEoqN_HzVgD"
   }
  },
  {
   "cell_type": "code",
   "source": [
    "test = dataset['test'][0]\n",
    "print(test['utt'])\n",
    "\n",
    "print('what we want: ', test['annot_utt'])\n",
    "print('our result: ', viterbi(tokenizer.tokenize(test['utt']), train_tagged_words_unstructured))"
   ],
   "metadata": {
    "colab": {
     "base_uri": "https://localhost:8080/"
    },
    "id": "l0KLI5Agxzc3",
    "outputId": "02364950-8a9b-420a-8208-c543efa9be2f",
    "ExecuteTime": {
     "end_time": "2023-09-01T18:09:22.552830Z",
     "start_time": "2023-09-01T18:09:20.996935Z"
    }
   },
   "execution_count": 17,
   "outputs": [
    {
     "name": "stdout",
     "output_type": "stream",
     "text": [
      "این هفته ساعت پنج صبح بیدارم کن\n",
      "what we want:  [date : این هفته] ساعت [time : پنج صبح] بیدارم کن\n",
      "our result:  [('این', 'date'), ('هفته', 'date'), ('ساعت', None), ('پنج', 'time'), ('صبح', 'time'), ('بیدارم', None), ('کن', None)]\n"
     ]
    }
   ]
  },
  {
   "cell_type": "code",
   "source": [
    "def measure_accuracy(test_size: int = len(dataset['test'])):\n",
    "  total, total_correct = 0, 0\n",
    "\n",
    "  start = time.time()\n",
    "\n",
    "  for i in range(test_size):\n",
    "    test_data = dataset['test'][i]\n",
    "    tagged_answer = get_word_tag_tuples(test_data['utt'], test_data['annot_utt'])\n",
    "    our_result = viterbi(tokenizer.tokenize(test_data['utt']), train_tagged_words_unstructured)\n",
    "    total_correct += len([i for i, j in zip(our_result, tagged_answer) if i == j])\n",
    "    total += len(our_result)\n",
    "\n",
    "  end = time.time()\n",
    "  difference = end-start\n",
    "\n",
    "  accuracy = total_correct/total\n",
    "  print('Viterbi Algorithm Accuracy: ',accuracy*100)\n",
    "  print(f' ** took {difference} second! **')\n",
    "\n",
    "\n",
    "measure_accuracy(100)"
   ],
   "metadata": {
    "colab": {
     "base_uri": "https://localhost:8080/"
    },
    "id": "2b3NRs1_ybD6",
    "outputId": "bcabefb4-9e3b-4124-eb0b-a86f6bf3828c",
    "ExecuteTime": {
     "end_time": "2023-09-01T18:10:57.124963Z",
     "start_time": "2023-09-01T18:09:22.490997Z"
    }
   },
   "execution_count": 18,
   "outputs": [
    {
     "name": "stdout",
     "output_type": "stream",
     "text": [
      "Viterbi Algorithm Accuracy:  71.98067632850241\n",
      " ** took 94.63200902938843 second! **\n"
     ]
    }
   ]
  },
  {
   "cell_type": "code",
   "source": [
    "def measure_accuracy_long(test_size: int = len(dataset['test'])):\n",
    "  total, total_correct = 0, 0\n",
    "  \n",
    "  start = time.time()\n",
    "\n",
    "  for i in tqdm(range(test_size)):\n",
    "    test_data = dataset['test'][i]\n",
    "    tagged_answer = get_word_tag_tuples(test_data['utt'], test_data['annot_utt'])\n",
    "    our_result = viterbi(tokenizer.tokenize(test_data['utt']), train_tagged_words_unstructured)\n",
    "    total_correct += len([i for i, j in zip(our_result, tagged_answer) if i == j])\n",
    "    total += len(our_result)\n",
    "  \n",
    "  end = time.time()\n",
    "  difference = end-start\n",
    "\n",
    "  accuracy = total_correct/total\n",
    "  print('\\nViterbi Algorithm Accuracy: ',accuracy*100)\n",
    "  print(f' ** took {difference} second! **')"
   ],
   "metadata": {
    "id": "Bc-LuZ4i1pzz",
    "ExecuteTime": {
     "end_time": "2023-09-01T18:15:10.141239Z",
     "start_time": "2023-09-01T18:15:10.096207Z"
    }
   },
   "execution_count": 20,
   "outputs": []
  },
  {
   "cell_type": "code",
   "execution_count": 21,
   "outputs": [
    {
     "name": "stderr",
     "output_type": "stream",
     "text": [
      "100%|██████████| 2974/2974 [54:06<00:00,  1.09s/it]  "
     ]
    },
    {
     "name": "stdout",
     "output_type": "stream",
     "text": [
      "\n",
      "Viterbi Algorithm Accuracy:  69.57140234948605\n",
      " ** took 3246.4367003440857 second! **\n"
     ]
    },
    {
     "name": "stderr",
     "output_type": "stream",
     "text": [
      "\n"
     ]
    }
   ],
   "source": [
    "measure_accuracy_long()"
   ],
   "metadata": {
    "collapsed": false,
    "ExecuteTime": {
     "end_time": "2023-09-01T19:09:18.693895Z",
     "start_time": "2023-09-01T18:15:12.243461Z"
    }
   }
  },
  {
   "cell_type": "code",
   "execution_count": null,
   "outputs": [],
   "source": [],
   "metadata": {
    "collapsed": false
   }
  }
 ]
}
