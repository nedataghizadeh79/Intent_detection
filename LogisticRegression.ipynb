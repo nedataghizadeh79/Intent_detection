{
 "cells": [
  {
   "cell_type": "code",
   "execution_count": 32,
   "metadata": {},
   "outputs": [],
   "source": [
    "from sklearn.feature_extraction.text import TfidfVectorizer\n",
    "from sklearn.linear_model import LogisticRegression\n",
    "from sklearn.model_selection import train_test_split\n",
    "from sklearn.metrics import accuracy_score\n",
    "from datasets import load_dataset"
   ]
  },
  {
   "cell_type": "markdown",
   "metadata": {},
   "source": [
    "ابتدا دیتاست را لود کرده و ستون‌های جمله و لیبل جمله را می‌خوانیم."
   ]
  },
  {
   "cell_type": "code",
   "execution_count": 33,
   "metadata": {},
   "outputs": [
    {
     "name": "stderr",
     "output_type": "stream",
     "text": [
      "Found cached dataset massive (C:/Users/ASUS/.cache/huggingface/datasets/AmazonScience___massive/fa-IR/1.0.0/71d360eb7d7a18565ff8c10609cebf714fce3cc390e173ba5b02ffd48543cdc1)\n"
     ]
    },
    {
     "data": {
      "application/vnd.jupyter.widget-view+json": {
       "model_id": "ee390b17ae6849d5a9b6507e6c5bf084",
       "version_major": 2,
       "version_minor": 0
      },
      "text/plain": [
       "  0%|          | 0/3 [00:00<?, ?it/s]"
      ]
     },
     "metadata": {},
     "output_type": "display_data"
    }
   ],
   "source": [
    "dataset = load_dataset(\"AmazonScience/massive\", \"fa-IR\")\n",
    "\n",
    "sentences_train = dataset['train']['utt']\n",
    "labels_train = dataset['train']['scenario']\n",
    "\n",
    "sentences_validation = dataset['validation']['utt']\n",
    "labels_validation = dataset['validation']['scenario']\n",
    "\n",
    "sentences_test = dataset['test']['utt']\n",
    "labels_test = dataset['test']['scenario']\n"
   ]
  },
  {
   "cell_type": "code",
   "execution_count": 42,
   "metadata": {},
   "outputs": [],
   "source": [
    "vectorizer = TfidfVectorizer()\n",
    "sentences_train_tfidf = vectorizer.fit_transform(sentences_train)\n",
    "sentences_validation_tfidf = vectorizer.transform(sentences_validation)\n",
    "sentences_test_tfidf = vectorizer.transform(sentences_test)"
   ]
  },
  {
   "cell_type": "code",
   "execution_count": 36,
   "metadata": {},
   "outputs": [
    {
     "data": {
      "text/html": [
       "<style>#sk-container-id-5 {color: black;background-color: white;}#sk-container-id-5 pre{padding: 0;}#sk-container-id-5 div.sk-toggleable {background-color: white;}#sk-container-id-5 label.sk-toggleable__label {cursor: pointer;display: block;width: 100%;margin-bottom: 0;padding: 0.3em;box-sizing: border-box;text-align: center;}#sk-container-id-5 label.sk-toggleable__label-arrow:before {content: \"▸\";float: left;margin-right: 0.25em;color: #696969;}#sk-container-id-5 label.sk-toggleable__label-arrow:hover:before {color: black;}#sk-container-id-5 div.sk-estimator:hover label.sk-toggleable__label-arrow:before {color: black;}#sk-container-id-5 div.sk-toggleable__content {max-height: 0;max-width: 0;overflow: hidden;text-align: left;background-color: #f0f8ff;}#sk-container-id-5 div.sk-toggleable__content pre {margin: 0.2em;color: black;border-radius: 0.25em;background-color: #f0f8ff;}#sk-container-id-5 input.sk-toggleable__control:checked~div.sk-toggleable__content {max-height: 200px;max-width: 100%;overflow: auto;}#sk-container-id-5 input.sk-toggleable__control:checked~label.sk-toggleable__label-arrow:before {content: \"▾\";}#sk-container-id-5 div.sk-estimator input.sk-toggleable__control:checked~label.sk-toggleable__label {background-color: #d4ebff;}#sk-container-id-5 div.sk-label input.sk-toggleable__control:checked~label.sk-toggleable__label {background-color: #d4ebff;}#sk-container-id-5 input.sk-hidden--visually {border: 0;clip: rect(1px 1px 1px 1px);clip: rect(1px, 1px, 1px, 1px);height: 1px;margin: -1px;overflow: hidden;padding: 0;position: absolute;width: 1px;}#sk-container-id-5 div.sk-estimator {font-family: monospace;background-color: #f0f8ff;border: 1px dotted black;border-radius: 0.25em;box-sizing: border-box;margin-bottom: 0.5em;}#sk-container-id-5 div.sk-estimator:hover {background-color: #d4ebff;}#sk-container-id-5 div.sk-parallel-item::after {content: \"\";width: 100%;border-bottom: 1px solid gray;flex-grow: 1;}#sk-container-id-5 div.sk-label:hover label.sk-toggleable__label {background-color: #d4ebff;}#sk-container-id-5 div.sk-serial::before {content: \"\";position: absolute;border-left: 1px solid gray;box-sizing: border-box;top: 0;bottom: 0;left: 50%;z-index: 0;}#sk-container-id-5 div.sk-serial {display: flex;flex-direction: column;align-items: center;background-color: white;padding-right: 0.2em;padding-left: 0.2em;position: relative;}#sk-container-id-5 div.sk-item {position: relative;z-index: 1;}#sk-container-id-5 div.sk-parallel {display: flex;align-items: stretch;justify-content: center;background-color: white;position: relative;}#sk-container-id-5 div.sk-item::before, #sk-container-id-5 div.sk-parallel-item::before {content: \"\";position: absolute;border-left: 1px solid gray;box-sizing: border-box;top: 0;bottom: 0;left: 50%;z-index: -1;}#sk-container-id-5 div.sk-parallel-item {display: flex;flex-direction: column;z-index: 1;position: relative;background-color: white;}#sk-container-id-5 div.sk-parallel-item:first-child::after {align-self: flex-end;width: 50%;}#sk-container-id-5 div.sk-parallel-item:last-child::after {align-self: flex-start;width: 50%;}#sk-container-id-5 div.sk-parallel-item:only-child::after {width: 0;}#sk-container-id-5 div.sk-dashed-wrapped {border: 1px dashed gray;margin: 0 0.4em 0.5em 0.4em;box-sizing: border-box;padding-bottom: 0.4em;background-color: white;}#sk-container-id-5 div.sk-label label {font-family: monospace;font-weight: bold;display: inline-block;line-height: 1.2em;}#sk-container-id-5 div.sk-label-container {text-align: center;}#sk-container-id-5 div.sk-container {/* jupyter's `normalize.less` sets `[hidden] { display: none; }` but bootstrap.min.css set `[hidden] { display: none !important; }` so we also need the `!important` here to be able to override the default hidden behavior on the sphinx rendered scikit-learn.org. See: https://github.com/scikit-learn/scikit-learn/issues/21755 */display: inline-block !important;position: relative;}#sk-container-id-5 div.sk-text-repr-fallback {display: none;}</style><div id=\"sk-container-id-5\" class=\"sk-top-container\"><div class=\"sk-text-repr-fallback\"><pre>LogisticRegression(max_iter=1000, solver=&#x27;sag&#x27;)</pre><b>In a Jupyter environment, please rerun this cell to show the HTML representation or trust the notebook. <br />On GitHub, the HTML representation is unable to render, please try loading this page with nbviewer.org.</b></div><div class=\"sk-container\" hidden><div class=\"sk-item\"><div class=\"sk-estimator sk-toggleable\"><input class=\"sk-toggleable__control sk-hidden--visually\" id=\"sk-estimator-id-5\" type=\"checkbox\" checked><label for=\"sk-estimator-id-5\" class=\"sk-toggleable__label sk-toggleable__label-arrow\">LogisticRegression</label><div class=\"sk-toggleable__content\"><pre>LogisticRegression(max_iter=1000, solver=&#x27;sag&#x27;)</pre></div></div></div></div></div>"
      ],
      "text/plain": [
       "LogisticRegression(max_iter=1000, solver='sag')"
      ]
     },
     "execution_count": 36,
     "metadata": {},
     "output_type": "execute_result"
    }
   ],
   "source": [
    "model = LogisticRegression(max_iter=1000, solver='sag')\n",
    "model.fit(sentences_train_tfidf, labels_train)"
   ]
  },
  {
   "cell_type": "code",
   "execution_count": 37,
   "metadata": {},
   "outputs": [],
   "source": [
    "labels_map = ['social',\n",
    " 'transport',\n",
    " 'calendar',\n",
    " 'play',\n",
    " 'news',\n",
    " 'datetime',\n",
    " 'recommendation',\n",
    " 'email',\n",
    " 'iot',\n",
    " 'general',\n",
    " 'audio',\n",
    " 'lists',\n",
    " 'qa',\n",
    " 'cooking',\n",
    " 'takeaway',\n",
    " 'music',\n",
    " 'alarm',\n",
    " 'weather']"
   ]
  },
  {
   "cell_type": "markdown",
   "metadata": {},
   "source": [
    "محاسبه دقت مدل براساس داده‌های آموزش، تست و ارزیابی دیتاست اصلی:"
   ]
  },
  {
   "cell_type": "code",
   "execution_count": 47,
   "metadata": {},
   "outputs": [
    {
     "name": "stdout",
     "output_type": "stream",
     "text": [
      "معیارهای ارزیابی براساس داده‌های آموزش:\n",
      "Accuracy: 0.9307799200972728\n",
      "Precision: 0.9496857631963886\n",
      "Recall: 0.9120210407905804\n",
      "F1: 0.9290359751362901\n",
      "معیارهای ارزیابی براساس داده‌های ولیدیشن:\n",
      "Accuracy: 0.8726020659124447\n",
      "Precision: 0.8976197670616699\n",
      "Recall: 0.8442572660422971\n",
      "F1: 0.8672443345096942\n",
      "معیارهای ارزیابی براساس داده‌های تست:\n",
      "Accuracy: 0.8685272360457297\n",
      "Precision: 0.903860340866525\n",
      "Recall: 0.8334936937306404\n",
      "F1: 0.8628816100160324\n"
     ]
    }
   ],
   "source": [
    "from sklearn.metrics import accuracy_score, precision_score, recall_score, f1_score\n",
    "print('معیارهای ارزیابی براساس داده‌های آموزش:')\n",
    "# پیش‌بینی برچسب‌ها برای داده‌های آموزش\n",
    "train_predictions = model.predict(sentences_train_tfidf)\n",
    "\n",
    "# محاسبه دقت (Accuracy)\n",
    "accuracy = accuracy_score(labels_train, train_predictions)\n",
    "print(\"Accuracy:\", accuracy)\n",
    "\n",
    "# محاسبه دقت (Precision)\n",
    "precision = precision_score(labels_train, train_predictions, average='macro')\n",
    "print(\"Precision:\", precision)\n",
    "\n",
    "# محاسبه بازخوانی (Recall)\n",
    "recall = recall_score(labels_train, train_predictions, average='macro')\n",
    "print(\"Recall:\", recall)\n",
    "\n",
    "# محاسبه اندازه F1\n",
    "f1 = f1_score(labels_train, train_predictions, average='macro')\n",
    "print(\"F1:\", f1)\n",
    "\n",
    "\n",
    "print('معیارهای ارزیابی براساس داده‌های ولیدیشن:')\n",
    "# پیش‌بینی برچسب‌ها برای داده‌های آموزش\n",
    "validation_predictions = model.predict(sentences_validation_tfidf)\n",
    "\n",
    "# محاسبه دقت (Accuracy)\n",
    "accuracy = accuracy_score(labels_validation, validation_predictions)\n",
    "print(\"Accuracy:\", accuracy)\n",
    "\n",
    "# محاسبه دقت (Precision)\n",
    "precision = precision_score(labels_validation, validation_predictions, average='macro')\n",
    "print(\"Precision:\", precision)\n",
    "\n",
    "# محاسبه بازخوانی (Recall)\n",
    "recall = recall_score(labels_validation, validation_predictions, average='macro')\n",
    "print(\"Recall:\", recall)\n",
    "\n",
    "# محاسبه اندازه F1\n",
    "f1 = f1_score(labels_validation, validation_predictions, average='macro')\n",
    "print(\"F1:\", f1)\n",
    "\n",
    "\n",
    "print('معیارهای ارزیابی براساس داده‌های تست:')\n",
    "# پیش‌بینی برچسب‌ها برای داده‌های آموزش\n",
    "test_predictions = model.predict(sentences_test_tfidf)\n",
    "\n",
    "# محاسبه دقت (Accuracy)\n",
    "accuracy = accuracy_score(labels_test, test_predictions)\n",
    "print(\"Accuracy:\", accuracy)\n",
    "\n",
    "# محاسبه دقت (Precision)\n",
    "precision = precision_score(labels_test, test_predictions, average='macro')\n",
    "print(\"Precision:\", precision)\n",
    "\n",
    "# محاسبه بازخوانی (Recall)\n",
    "recall = recall_score(labels_test, test_predictions, average='macro')\n",
    "print(\"Recall:\", recall)\n",
    "\n",
    "# محاسبه اندازه F1\n",
    "f1 = f1_score(labels_test, test_predictions, average='macro')\n",
    "print(\"F1:\", f1)"
   ]
  },
  {
   "cell_type": "markdown",
   "metadata": {},
   "source": [
    "تست مدل روی جملات کاملا جدید که عملکرد نسبتا خوبی دارد"
   ]
  },
  {
   "cell_type": "code",
   "execution_count": 44,
   "metadata": {},
   "outputs": [
    {
     "name": "stdout",
     "output_type": "stream",
     "text": [
      "جملات جدید:\n",
      "نیم ساعت میخوابم بیدارم کن\n",
      " قصد: alarm\n",
      "روسیه به اوکراین حمله کرد.\n",
      " قصد: qa\n",
      "خورش مرغ کبابی چطوری بپزم؟\n",
      " قصد: cooking\n",
      "هوای قم گرمتر از اهوازه\n",
      " قصد: weather\n",
      "فردا سه شنبه است یا جمعه؟\n",
      " قصد: calendar\n"
     ]
    }
   ],
   "source": [
    "new_sentences = [\n",
    "    'نیم ساعت میخوابم بیدارم کن',\n",
    "    'روسیه به اوکراین حمله کرد.',\n",
    "    'خورش مرغ کبابی چطوری بپزم؟',\n",
    "    'هوای قم گرمتر از اهوازه',\n",
    "    'فردا سه شنبه است یا جمعه؟'\n",
    "]\n",
    "new_sentences_tfidf = vectorizer.transform(new_sentences)\n",
    "new_predictions = model.predict(new_sentences_tfidf)\n",
    "print(\"جملات جدید:\")\n",
    "for sentence, prediction in zip(new_sentences, new_predictions):\n",
    "    print(\"{}\\n قصد: {}\".format(sentence, labels_map[prediction]))\n"
   ]
  },
  {
   "cell_type": "markdown",
   "metadata": {},
   "source": [
    "همانطور که مشاهده می‌شود مدل LogisticRegression که یک مدل پایه غیر ترنسفورمری است در رقابت و مقایسه با مدل‌های ترنسفورمری و در کنار روش naive bayse عملکرد نسبتا خوبی دارد و درصدهای معیارهای ارزیابی آن تقریبا برابر است. تفاوت‌های جزئی در بعضی عملکردها وجود دارد و برخی تستها طبیعتا نتیجه متفاوت در مدل‌های مختلف دارد. "
   ]
  }
 ],
 "metadata": {
  "kernelspec": {
   "display_name": "Python 3",
   "language": "python",
   "name": "python3"
  },
  "language_info": {
   "codemirror_mode": {
    "name": "ipython",
    "version": 3
   },
   "file_extension": ".py",
   "mimetype": "text/x-python",
   "name": "python",
   "nbconvert_exporter": "python",
   "pygments_lexer": "ipython3",
   "version": "3.8.0"
  },
  "orig_nbformat": 4
 },
 "nbformat": 4,
 "nbformat_minor": 2
}
