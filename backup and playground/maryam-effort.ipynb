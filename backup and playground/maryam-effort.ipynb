{
 "cells": [
  {
   "cell_type": "code",
   "execution_count": 2,
   "outputs": [],
   "source": [
    "from datasets import load_dataset\n",
    "import pandas as pd\n",
    "import numpy as np\n",
    "import torch\n",
    "from transformers import AutoTokenizer"
   ],
   "metadata": {
    "collapsed": false
   }
  },
  {
   "cell_type": "code",
   "execution_count": 26,
   "outputs": [
    {
     "name": "stderr",
     "output_type": "stream",
     "text": [
      "Found cached dataset massive (C:/Users/ASUS/.cache/huggingface/datasets/AmazonScience___massive/fa-IR/1.0.0/71d360eb7d7a18565ff8c10609cebf714fce3cc390e173ba5b02ffd48543cdc1)\n",
      "Found cached dataset massive (C:/Users/ASUS/.cache/huggingface/datasets/AmazonScience___massive/fa-IR/1.0.0/71d360eb7d7a18565ff8c10609cebf714fce3cc390e173ba5b02ffd48543cdc1)\n",
      "Found cached dataset massive (C:/Users/ASUS/.cache/huggingface/datasets/AmazonScience___massive/fa-IR/1.0.0/71d360eb7d7a18565ff8c10609cebf714fce3cc390e173ba5b02ffd48543cdc1)\n"
     ]
    }
   ],
   "source": [
    "train_dataset = load_dataset(\"AmazonScience/massive\",'fa-IR', split=\"train\")\n",
    "train_df = pd.DataFrame(train_dataset)\n",
    "dev_dataset = load_dataset(\"AmazonScience/massive\",'fa-IR', split=\"validation\")\n",
    "dev_df = pd.DataFrame(dev_dataset)\n",
    "test_dataset = load_dataset(\"AmazonScience/massive\",'fa-IR', split=\"test\")\n",
    "test_df = pd.DataFrame(test_dataset)"
   ],
   "metadata": {
    "collapsed": false
   }
  },
  {
   "cell_type": "code",
   "execution_count": 27,
   "outputs": [
    {
     "data": {
      "text/plain": "id                                                             1\nlocale                                                     fa-IR\npartition                                                  train\nscenario                                                      16\nintent                                                        48\nutt                                مرا جمعه ساعت نه صبح بیدار کن\nannot_utt        مرا [date : جمعه] ساعت [time : نه صبح] بیدار کن\nworker_id                                                      3\nslot_method    {'slot': ['time', 'date'], 'method': ['transla...\njudgments      {'worker_id': ['3', '8', '14'], 'intent_score'...\nName: 0, dtype: object"
     },
     "execution_count": 27,
     "metadata": {},
     "output_type": "execute_result"
    }
   ],
   "source": [
    "train_df.iloc[0]"
   ],
   "metadata": {
    "collapsed": false
   }
  },
  {
   "cell_type": "code",
   "execution_count": 28,
   "outputs": [
    {
     "data": {
      "text/plain": "          id locale partition  scenario  intent  \\\n0          1  fa-IR     train        16      48   \n1          2  fa-IR     train        16      48   \n2          4  fa-IR     train        10      46   \n3          5  fa-IR     train        10      46   \n4          6  fa-IR     train        10      46   \n...      ...    ...       ...       ...     ...   \n11509  17175  fa-IR     train         7      17   \n11510  17176  fa-IR     train         7      44   \n11511  17177  fa-IR     train         7      44   \n11512  17178  fa-IR     train         7      44   \n11513  17180  fa-IR     train         7      44   \n\n                                              utt  \\\n0                   مرا جمعه ساعت نه صبح بیدار کن   \n1      یک زنگ هشدار را برای دو ساعت دیگر تنظیم کن   \n2                                     الی ساکت شو   \n3                                            توقف   \n4                          برای ده ثانیه متوقف کن   \n...                                           ...   \n11509            برای فرید توی واتس اپ بنویس سلام   \n11510                          آیا من ایمیلی دارم   \n11511                    چه ایمیل‌هایی جدید هستند   \n11512              آیا من ایمیل جدیدی از علی دارم   \n11513                          ایمیل علی را چک کن   \n\n                                               annot_utt worker_id  \\\n0        مرا [date : جمعه] ساعت [time : نه صبح] بیدار کن         3   \n1      یک زنگ هشدار را برای [time : دو ساعت دیگر] تنظ...         8   \n2                                            الی ساکت شو        21   \n3                                                   توقف        17   \n4                        برای [time : ده ثانیه] متوقف کن        17   \n...                                                  ...       ...   \n11509                   برای فرید توی واتس اپ بنویس سلام        16   \n11510                                 آیا من ایمیلی دارم         8   \n11511                           چه ایمیل‌هایی جدید هستند         8   \n11512          آیا من ایمیل جدیدی از [person : علی] دارم         8   \n11513                      ایمیل [person : علی] را چک کن         8   \n\n                                             slot_method  \\\n0      {'slot': ['time', 'date'], 'method': ['transla...   \n1          {'slot': ['time'], 'method': ['translation']}   \n2                             {'slot': [], 'method': []}   \n3                             {'slot': [], 'method': []}   \n4          {'slot': ['time'], 'method': ['translation']}   \n...                                                  ...   \n11509                         {'slot': [], 'method': []}   \n11510                         {'slot': [], 'method': []}   \n11511                         {'slot': [], 'method': []}   \n11512   {'slot': ['person'], 'method': ['localization']}   \n11513   {'slot': ['person'], 'method': ['localization']}   \n\n                                               judgments  \n0      {'worker_id': ['3', '8', '14'], 'intent_score'...  \n1      {'worker_id': ['21', '3', '8'], 'intent_score'...  \n2      {'worker_id': ['21', '3', '8'], 'intent_score'...  \n3      {'worker_id': ['3', '8', '14'], 'intent_score'...  \n4      {'worker_id': ['8', '9', '21'], 'intent_score'...  \n...                                                  ...  \n11509  {'worker_id': ['3', '14', '8'], 'intent_score'...  \n11510  {'worker_id': ['21', '8', '3'], 'intent_score'...  \n11511  {'worker_id': ['8', '21', '3'], 'intent_score'...  \n11512  {'worker_id': ['21', '8', '14'], 'intent_score...  \n11513  {'worker_id': ['8', '3', '21'], 'intent_score'...  \n\n[11514 rows x 10 columns]",
      "text/html": "<div>\n<style scoped>\n    .dataframe tbody tr th:only-of-type {\n        vertical-align: middle;\n    }\n\n    .dataframe tbody tr th {\n        vertical-align: top;\n    }\n\n    .dataframe thead th {\n        text-align: right;\n    }\n</style>\n<table border=\"1\" class=\"dataframe\">\n  <thead>\n    <tr style=\"text-align: right;\">\n      <th></th>\n      <th>id</th>\n      <th>locale</th>\n      <th>partition</th>\n      <th>scenario</th>\n      <th>intent</th>\n      <th>utt</th>\n      <th>annot_utt</th>\n      <th>worker_id</th>\n      <th>slot_method</th>\n      <th>judgments</th>\n    </tr>\n  </thead>\n  <tbody>\n    <tr>\n      <th>0</th>\n      <td>1</td>\n      <td>fa-IR</td>\n      <td>train</td>\n      <td>16</td>\n      <td>48</td>\n      <td>مرا جمعه ساعت نه صبح بیدار کن</td>\n      <td>مرا [date : جمعه] ساعت [time : نه صبح] بیدار کن</td>\n      <td>3</td>\n      <td>{'slot': ['time', 'date'], 'method': ['transla...</td>\n      <td>{'worker_id': ['3', '8', '14'], 'intent_score'...</td>\n    </tr>\n    <tr>\n      <th>1</th>\n      <td>2</td>\n      <td>fa-IR</td>\n      <td>train</td>\n      <td>16</td>\n      <td>48</td>\n      <td>یک زنگ هشدار را برای دو ساعت دیگر تنظیم کن</td>\n      <td>یک زنگ هشدار را برای [time : دو ساعت دیگر] تنظ...</td>\n      <td>8</td>\n      <td>{'slot': ['time'], 'method': ['translation']}</td>\n      <td>{'worker_id': ['21', '3', '8'], 'intent_score'...</td>\n    </tr>\n    <tr>\n      <th>2</th>\n      <td>4</td>\n      <td>fa-IR</td>\n      <td>train</td>\n      <td>10</td>\n      <td>46</td>\n      <td>الی ساکت شو</td>\n      <td>الی ساکت شو</td>\n      <td>21</td>\n      <td>{'slot': [], 'method': []}</td>\n      <td>{'worker_id': ['21', '3', '8'], 'intent_score'...</td>\n    </tr>\n    <tr>\n      <th>3</th>\n      <td>5</td>\n      <td>fa-IR</td>\n      <td>train</td>\n      <td>10</td>\n      <td>46</td>\n      <td>توقف</td>\n      <td>توقف</td>\n      <td>17</td>\n      <td>{'slot': [], 'method': []}</td>\n      <td>{'worker_id': ['3', '8', '14'], 'intent_score'...</td>\n    </tr>\n    <tr>\n      <th>4</th>\n      <td>6</td>\n      <td>fa-IR</td>\n      <td>train</td>\n      <td>10</td>\n      <td>46</td>\n      <td>برای ده ثانیه متوقف کن</td>\n      <td>برای [time : ده ثانیه] متوقف کن</td>\n      <td>17</td>\n      <td>{'slot': ['time'], 'method': ['translation']}</td>\n      <td>{'worker_id': ['8', '9', '21'], 'intent_score'...</td>\n    </tr>\n    <tr>\n      <th>...</th>\n      <td>...</td>\n      <td>...</td>\n      <td>...</td>\n      <td>...</td>\n      <td>...</td>\n      <td>...</td>\n      <td>...</td>\n      <td>...</td>\n      <td>...</td>\n      <td>...</td>\n    </tr>\n    <tr>\n      <th>11509</th>\n      <td>17175</td>\n      <td>fa-IR</td>\n      <td>train</td>\n      <td>7</td>\n      <td>17</td>\n      <td>برای فرید توی واتس اپ بنویس سلام</td>\n      <td>برای فرید توی واتس اپ بنویس سلام</td>\n      <td>16</td>\n      <td>{'slot': [], 'method': []}</td>\n      <td>{'worker_id': ['3', '14', '8'], 'intent_score'...</td>\n    </tr>\n    <tr>\n      <th>11510</th>\n      <td>17176</td>\n      <td>fa-IR</td>\n      <td>train</td>\n      <td>7</td>\n      <td>44</td>\n      <td>آیا من ایمیلی دارم</td>\n      <td>آیا من ایمیلی دارم</td>\n      <td>8</td>\n      <td>{'slot': [], 'method': []}</td>\n      <td>{'worker_id': ['21', '8', '3'], 'intent_score'...</td>\n    </tr>\n    <tr>\n      <th>11511</th>\n      <td>17177</td>\n      <td>fa-IR</td>\n      <td>train</td>\n      <td>7</td>\n      <td>44</td>\n      <td>چه ایمیل‌هایی جدید هستند</td>\n      <td>چه ایمیل‌هایی جدید هستند</td>\n      <td>8</td>\n      <td>{'slot': [], 'method': []}</td>\n      <td>{'worker_id': ['8', '21', '3'], 'intent_score'...</td>\n    </tr>\n    <tr>\n      <th>11512</th>\n      <td>17178</td>\n      <td>fa-IR</td>\n      <td>train</td>\n      <td>7</td>\n      <td>44</td>\n      <td>آیا من ایمیل جدیدی از علی دارم</td>\n      <td>آیا من ایمیل جدیدی از [person : علی] دارم</td>\n      <td>8</td>\n      <td>{'slot': ['person'], 'method': ['localization']}</td>\n      <td>{'worker_id': ['21', '8', '14'], 'intent_score...</td>\n    </tr>\n    <tr>\n      <th>11513</th>\n      <td>17180</td>\n      <td>fa-IR</td>\n      <td>train</td>\n      <td>7</td>\n      <td>44</td>\n      <td>ایمیل علی را چک کن</td>\n      <td>ایمیل [person : علی] را چک کن</td>\n      <td>8</td>\n      <td>{'slot': ['person'], 'method': ['localization']}</td>\n      <td>{'worker_id': ['8', '3', '21'], 'intent_score'...</td>\n    </tr>\n  </tbody>\n</table>\n<p>11514 rows × 10 columns</p>\n</div>"
     },
     "execution_count": 28,
     "metadata": {},
     "output_type": "execute_result"
    }
   ],
   "source": [
    "train_df"
   ],
   "metadata": {
    "collapsed": false
   }
  },
  {
   "cell_type": "code",
   "execution_count": 29,
   "outputs": [
    {
     "data": {
      "text/plain": "ClassLabel(names=['social', 'transport', 'calendar', 'play', 'news', 'datetime', 'recommendation', 'email', 'iot', 'general', 'audio', 'lists', 'qa', 'cooking', 'takeaway', 'music', 'alarm', 'weather'], id=None)"
     },
     "execution_count": 29,
     "metadata": {},
     "output_type": "execute_result"
    }
   ],
   "source": [
    "train_dataset.features['scenario']"
   ],
   "metadata": {
    "collapsed": false
   }
  },
  {
   "cell_type": "code",
   "execution_count": 30,
   "outputs": [
    {
     "data": {
      "text/plain": "['social',\n 'transport',\n 'calendar',\n 'play',\n 'news',\n 'datetime',\n 'recommendation',\n 'email',\n 'iot',\n 'general',\n 'audio',\n 'lists',\n 'qa',\n 'cooking',\n 'takeaway',\n 'music',\n 'alarm',\n 'weather']"
     },
     "execution_count": 30,
     "metadata": {},
     "output_type": "execute_result"
    }
   ],
   "source": [
    "train_dataset.features['scenario'].names"
   ],
   "metadata": {
    "collapsed": false
   }
  },
  {
   "cell_type": "code",
   "execution_count": 31,
   "outputs": [
    {
     "data": {
      "text/plain": "Value(dtype='string', id=None)"
     },
     "execution_count": 31,
     "metadata": {},
     "output_type": "execute_result"
    }
   ],
   "source": [
    "train_dataset.features['annot_utt']"
   ],
   "metadata": {
    "collapsed": false
   }
  },
  {
   "cell_type": "code",
   "execution_count": 32,
   "outputs": [],
   "source": [
    "filtered_train_df = train_df[['id','utt','scenario','annot_utt']]"
   ],
   "metadata": {
    "collapsed": false
   }
  },
  {
   "cell_type": "code",
   "execution_count": 33,
   "outputs": [
    {
     "data": {
      "text/plain": "          id                                         utt  scenario  \\\n0          1               مرا جمعه ساعت نه صبح بیدار کن        16   \n1          2  یک زنگ هشدار را برای دو ساعت دیگر تنظیم کن        16   \n2          4                                 الی ساکت شو        10   \n3          5                                        توقف        10   \n4          6                      برای ده ثانیه متوقف کن        10   \n...      ...                                         ...       ...   \n11509  17175            برای فرید توی واتس اپ بنویس سلام         7   \n11510  17176                          آیا من ایمیلی دارم         7   \n11511  17177                    چه ایمیل‌هایی جدید هستند         7   \n11512  17178              آیا من ایمیل جدیدی از علی دارم         7   \n11513  17180                          ایمیل علی را چک کن         7   \n\n                                               annot_utt  \n0        مرا [date : جمعه] ساعت [time : نه صبح] بیدار کن  \n1      یک زنگ هشدار را برای [time : دو ساعت دیگر] تنظ...  \n2                                            الی ساکت شو  \n3                                                   توقف  \n4                        برای [time : ده ثانیه] متوقف کن  \n...                                                  ...  \n11509                   برای فرید توی واتس اپ بنویس سلام  \n11510                                 آیا من ایمیلی دارم  \n11511                           چه ایمیل‌هایی جدید هستند  \n11512          آیا من ایمیل جدیدی از [person : علی] دارم  \n11513                      ایمیل [person : علی] را چک کن  \n\n[11514 rows x 4 columns]",
      "text/html": "<div>\n<style scoped>\n    .dataframe tbody tr th:only-of-type {\n        vertical-align: middle;\n    }\n\n    .dataframe tbody tr th {\n        vertical-align: top;\n    }\n\n    .dataframe thead th {\n        text-align: right;\n    }\n</style>\n<table border=\"1\" class=\"dataframe\">\n  <thead>\n    <tr style=\"text-align: right;\">\n      <th></th>\n      <th>id</th>\n      <th>utt</th>\n      <th>scenario</th>\n      <th>annot_utt</th>\n    </tr>\n  </thead>\n  <tbody>\n    <tr>\n      <th>0</th>\n      <td>1</td>\n      <td>مرا جمعه ساعت نه صبح بیدار کن</td>\n      <td>16</td>\n      <td>مرا [date : جمعه] ساعت [time : نه صبح] بیدار کن</td>\n    </tr>\n    <tr>\n      <th>1</th>\n      <td>2</td>\n      <td>یک زنگ هشدار را برای دو ساعت دیگر تنظیم کن</td>\n      <td>16</td>\n      <td>یک زنگ هشدار را برای [time : دو ساعت دیگر] تنظ...</td>\n    </tr>\n    <tr>\n      <th>2</th>\n      <td>4</td>\n      <td>الی ساکت شو</td>\n      <td>10</td>\n      <td>الی ساکت شو</td>\n    </tr>\n    <tr>\n      <th>3</th>\n      <td>5</td>\n      <td>توقف</td>\n      <td>10</td>\n      <td>توقف</td>\n    </tr>\n    <tr>\n      <th>4</th>\n      <td>6</td>\n      <td>برای ده ثانیه متوقف کن</td>\n      <td>10</td>\n      <td>برای [time : ده ثانیه] متوقف کن</td>\n    </tr>\n    <tr>\n      <th>...</th>\n      <td>...</td>\n      <td>...</td>\n      <td>...</td>\n      <td>...</td>\n    </tr>\n    <tr>\n      <th>11509</th>\n      <td>17175</td>\n      <td>برای فرید توی واتس اپ بنویس سلام</td>\n      <td>7</td>\n      <td>برای فرید توی واتس اپ بنویس سلام</td>\n    </tr>\n    <tr>\n      <th>11510</th>\n      <td>17176</td>\n      <td>آیا من ایمیلی دارم</td>\n      <td>7</td>\n      <td>آیا من ایمیلی دارم</td>\n    </tr>\n    <tr>\n      <th>11511</th>\n      <td>17177</td>\n      <td>چه ایمیل‌هایی جدید هستند</td>\n      <td>7</td>\n      <td>چه ایمیل‌هایی جدید هستند</td>\n    </tr>\n    <tr>\n      <th>11512</th>\n      <td>17178</td>\n      <td>آیا من ایمیل جدیدی از علی دارم</td>\n      <td>7</td>\n      <td>آیا من ایمیل جدیدی از [person : علی] دارم</td>\n    </tr>\n    <tr>\n      <th>11513</th>\n      <td>17180</td>\n      <td>ایمیل علی را چک کن</td>\n      <td>7</td>\n      <td>ایمیل [person : علی] را چک کن</td>\n    </tr>\n  </tbody>\n</table>\n<p>11514 rows × 4 columns</p>\n</div>"
     },
     "execution_count": 33,
     "metadata": {},
     "output_type": "execute_result"
    }
   ],
   "source": [
    "filtered_train_df"
   ],
   "metadata": {
    "collapsed": false
   }
  },
  {
   "cell_type": "code",
   "execution_count": 21,
   "outputs": [
    {
     "name": "stderr",
     "output_type": "stream",
     "text": [
      "C:\\Users\\ASUS\\AppData\\Local\\Temp\\ipykernel_3600\\2546274490.py:3: SettingWithCopyWarning: \n",
      "A value is trying to be set on a copy of a slice from a DataFrame.\n",
      "Try using .loc[row_indexer,col_indexer] = value instead\n",
      "\n",
      "See the caveats in the documentation: https://pandas.pydata.org/pandas-docs/stable/user_guide/indexing.html#returning-a-view-versus-a-copy\n",
      "  filtered_df['named_scenario'] = filtered_df['scenario'].apply(get_scenario_name)\n"
     ]
    }
   ],
   "source": [
    "def get_scenario_name(scenario_id):\n",
    "    return train_dataset.features['scenario'].names[scenario_id]\n",
    "filtered_train_df['named_scenario'] = filtered_train_df['scenario'].apply(get_scenario_name)"
   ],
   "metadata": {
    "collapsed": false
   }
  },
  {
   "cell_type": "code",
   "execution_count": 34,
   "outputs": [
    {
     "data": {
      "text/plain": "          id                                         utt  scenario  \\\n0          1               مرا جمعه ساعت نه صبح بیدار کن        16   \n1          2  یک زنگ هشدار را برای دو ساعت دیگر تنظیم کن        16   \n2          4                                 الی ساکت شو        10   \n3          5                                        توقف        10   \n4          6                      برای ده ثانیه متوقف کن        10   \n...      ...                                         ...       ...   \n11509  17175            برای فرید توی واتس اپ بنویس سلام         7   \n11510  17176                          آیا من ایمیلی دارم         7   \n11511  17177                    چه ایمیل‌هایی جدید هستند         7   \n11512  17178              آیا من ایمیل جدیدی از علی دارم         7   \n11513  17180                          ایمیل علی را چک کن         7   \n\n                                               annot_utt  \n0        مرا [date : جمعه] ساعت [time : نه صبح] بیدار کن  \n1      یک زنگ هشدار را برای [time : دو ساعت دیگر] تنظ...  \n2                                            الی ساکت شو  \n3                                                   توقف  \n4                        برای [time : ده ثانیه] متوقف کن  \n...                                                  ...  \n11509                   برای فرید توی واتس اپ بنویس سلام  \n11510                                 آیا من ایمیلی دارم  \n11511                           چه ایمیل‌هایی جدید هستند  \n11512          آیا من ایمیل جدیدی از [person : علی] دارم  \n11513                      ایمیل [person : علی] را چک کن  \n\n[11514 rows x 4 columns]",
      "text/html": "<div>\n<style scoped>\n    .dataframe tbody tr th:only-of-type {\n        vertical-align: middle;\n    }\n\n    .dataframe tbody tr th {\n        vertical-align: top;\n    }\n\n    .dataframe thead th {\n        text-align: right;\n    }\n</style>\n<table border=\"1\" class=\"dataframe\">\n  <thead>\n    <tr style=\"text-align: right;\">\n      <th></th>\n      <th>id</th>\n      <th>utt</th>\n      <th>scenario</th>\n      <th>annot_utt</th>\n    </tr>\n  </thead>\n  <tbody>\n    <tr>\n      <th>0</th>\n      <td>1</td>\n      <td>مرا جمعه ساعت نه صبح بیدار کن</td>\n      <td>16</td>\n      <td>مرا [date : جمعه] ساعت [time : نه صبح] بیدار کن</td>\n    </tr>\n    <tr>\n      <th>1</th>\n      <td>2</td>\n      <td>یک زنگ هشدار را برای دو ساعت دیگر تنظیم کن</td>\n      <td>16</td>\n      <td>یک زنگ هشدار را برای [time : دو ساعت دیگر] تنظ...</td>\n    </tr>\n    <tr>\n      <th>2</th>\n      <td>4</td>\n      <td>الی ساکت شو</td>\n      <td>10</td>\n      <td>الی ساکت شو</td>\n    </tr>\n    <tr>\n      <th>3</th>\n      <td>5</td>\n      <td>توقف</td>\n      <td>10</td>\n      <td>توقف</td>\n    </tr>\n    <tr>\n      <th>4</th>\n      <td>6</td>\n      <td>برای ده ثانیه متوقف کن</td>\n      <td>10</td>\n      <td>برای [time : ده ثانیه] متوقف کن</td>\n    </tr>\n    <tr>\n      <th>...</th>\n      <td>...</td>\n      <td>...</td>\n      <td>...</td>\n      <td>...</td>\n    </tr>\n    <tr>\n      <th>11509</th>\n      <td>17175</td>\n      <td>برای فرید توی واتس اپ بنویس سلام</td>\n      <td>7</td>\n      <td>برای فرید توی واتس اپ بنویس سلام</td>\n    </tr>\n    <tr>\n      <th>11510</th>\n      <td>17176</td>\n      <td>آیا من ایمیلی دارم</td>\n      <td>7</td>\n      <td>آیا من ایمیلی دارم</td>\n    </tr>\n    <tr>\n      <th>11511</th>\n      <td>17177</td>\n      <td>چه ایمیل‌هایی جدید هستند</td>\n      <td>7</td>\n      <td>چه ایمیل‌هایی جدید هستند</td>\n    </tr>\n    <tr>\n      <th>11512</th>\n      <td>17178</td>\n      <td>آیا من ایمیل جدیدی از علی دارم</td>\n      <td>7</td>\n      <td>آیا من ایمیل جدیدی از [person : علی] دارم</td>\n    </tr>\n    <tr>\n      <th>11513</th>\n      <td>17180</td>\n      <td>ایمیل علی را چک کن</td>\n      <td>7</td>\n      <td>ایمیل [person : علی] را چک کن</td>\n    </tr>\n  </tbody>\n</table>\n<p>11514 rows × 4 columns</p>\n</div>"
     },
     "execution_count": 34,
     "metadata": {},
     "output_type": "execute_result"
    }
   ],
   "source": [
    "filtered_train_df"
   ],
   "metadata": {
    "collapsed": false
   }
  },
  {
   "cell_type": "code",
   "execution_count": null,
   "outputs": [],
   "source": [
    "tokenizer = AutoTokenizer.from_pretrained(\"HooshvareLab/bert-fa-base-uncased\")\n",
    "train_encodings = tokenizer(train_df['text'].tolist(), padding=True, truncation=True)\n",
    "val_encodings = tokenizer(val_df['text'].tolist(), padding=True, truncation=True)"
   ],
   "metadata": {
    "collapsed": false
   }
  }
 ],
 "metadata": {
  "kernelspec": {
   "display_name": "Python 3",
   "language": "python",
   "name": "python3"
  },
  "language_info": {
   "codemirror_mode": {
    "name": "ipython",
    "version": 2
   },
   "file_extension": ".py",
   "mimetype": "text/x-python",
   "name": "python",
   "nbconvert_exporter": "python",
   "pygments_lexer": "ipython2",
   "version": "2.7.6"
  }
 },
 "nbformat": 4,
 "nbformat_minor": 0
}
